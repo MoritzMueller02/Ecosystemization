{
 "cells": [
  {
   "cell_type": "markdown",
   "id": "c010001e",
   "metadata": {},
   "source": [
    "# Preparing the data\n",
    "\n",
    "- Downloading the Features of 200 manually coded companies from the S&P1500\n",
    "- The tickers are already coded into one of the four classes \n",
    "    - 1 = Orchestrator Core\n",
    "    - 2 = Orchestrator Periph.\n",
    "    - 3 = Complementor Core\n",
    "    - 4 = Complementor Peripheral\n",
    "    \n",
    "- We import the necessary libraries and read the Excel file containing the company list with their corresponding tickers and labels."
   ]
  },
  {
   "cell_type": "code",
   "execution_count": 43,
   "id": "7dd6b379",
   "metadata": {},
   "outputs": [],
   "source": [
    "base_url = \"https://financialmodelingprep.com/api\"\n",
    "API_KEY = \"ieZWryBMhiEhowJQXvvJBSo8rcJfvMVi\""
   ]
  },
  {
   "cell_type": "code",
   "execution_count": 44,
   "id": "843af593",
   "metadata": {
    "scrolled": true
   },
   "outputs": [
    {
     "data": {
      "text/html": [
       "<div>\n",
       "<style scoped>\n",
       "    .dataframe tbody tr th:only-of-type {\n",
       "        vertical-align: middle;\n",
       "    }\n",
       "\n",
       "    .dataframe tbody tr th {\n",
       "        vertical-align: top;\n",
       "    }\n",
       "\n",
       "    .dataframe thead th {\n",
       "        text-align: right;\n",
       "    }\n",
       "</style>\n",
       "<table border=\"1\" class=\"dataframe\">\n",
       "  <thead>\n",
       "    <tr style=\"text-align: right;\">\n",
       "      <th></th>\n",
       "      <th>Ticker</th>\n",
       "    </tr>\n",
       "  </thead>\n",
       "  <tbody>\n",
       "    <tr>\n",
       "      <th>0</th>\n",
       "      <td>HP</td>\n",
       "    </tr>\n",
       "    <tr>\n",
       "      <th>1</th>\n",
       "      <td>IBM</td>\n",
       "    </tr>\n",
       "    <tr>\n",
       "      <th>2</th>\n",
       "      <td>CSCO</td>\n",
       "    </tr>\n",
       "    <tr>\n",
       "      <th>3</th>\n",
       "      <td>PYPL</td>\n",
       "    </tr>\n",
       "    <tr>\n",
       "      <th>4</th>\n",
       "      <td>INTC</td>\n",
       "    </tr>\n",
       "  </tbody>\n",
       "</table>\n",
       "</div>"
      ],
      "text/plain": [
       "  Ticker\n",
       "0     HP\n",
       "1    IBM\n",
       "2   CSCO\n",
       "3   PYPL\n",
       "4   INTC"
      ]
     },
     "execution_count": 44,
     "metadata": {},
     "output_type": "execute_result"
    }
   ],
   "source": [
    "import pandas as pd\n",
    "tickers_df = pd.read_excel(\"Transitions_Cases_Literatur.xlsx\")\n",
    "tickers_df.head()"
   ]
  },
  {
   "cell_type": "markdown",
   "id": "3e9785ca",
   "metadata": {},
   "source": [
    "## Importing the Balance Sheet Data, Income Statement and CashFlowStatement Data\n",
    "\n",
    "Next, we import the Balance Sheet, Income Statement, and Cash Flow Statement data for each company using their tickers."
   ]
  },
  {
   "cell_type": "markdown",
   "id": "bf1c0d91",
   "metadata": {},
   "source": [
    "# Function for Importing Data using the V3 Version of the API"
   ]
  },
  {
   "cell_type": "code",
   "execution_count": 45,
   "id": "1df48e00",
   "metadata": {
    "scrolled": true
   },
   "outputs": [
    {
     "name": "stderr",
     "output_type": "stream",
     "text": [
      "Fetching balance-sheet-statement data: 100%|██████████| 5/5 [00:03<00:00,  1.32 ticker/s, Ticker=INTC]\n",
      "Fetching income-statement data: 100%|██████████| 5/5 [00:05<00:00,  1.02s/ ticker, Ticker=INTC]\n",
      "Fetching cash-flow-statement data: 100%|██████████| 5/5 [00:03<00:00,  1.37 ticker/s, Ticker=INTC]\n",
      "Fetching key-metrics data: 100%|██████████| 5/5 [00:04<00:00,  1.23 ticker/s, Ticker=INTC]\n"
     ]
    }
   ],
   "source": [
    "import pandas as pd\n",
    "import requests\n",
    "from tqdm import tqdm\n",
    "\n",
    "def fetch_and_concat_data(tickers, statement_type, base_url, version, API_KEY):\n",
    "    dfs = []  # List to store DataFrames for each company\n",
    "\n",
    "    # Initialize tqdm progress bar\n",
    "    progress_bar = tqdm(tickers, desc=f\"Fetching {statement_type} data\", unit=\" ticker\")\n",
    "    \n",
    "    for ticker in progress_bar:\n",
    "        progress_bar.set_postfix({\"Ticker\": ticker})\n",
    "        url = f\"{base_url}/{version}/{statement_type}/{ticker}?apikey={API_KEY}\"\n",
    "        response = requests.get(url)\n",
    "        data = response.json()\n",
    "        df = pd.DataFrame(data)\n",
    "        df['Ticker'] = ticker  # Adding a column for ticker symbol\n",
    "        dfs.append(df)\n",
    "        \n",
    "            \n",
    "    # Concatenate all DataFrames into a single DataFrame\n",
    "    final_df = pd.concat(dfs, ignore_index=True)\n",
    "    final_df.head()\n",
    "    return final_df\n",
    "\n",
    "# Assuming tickers_df is your DataFrame containing tickers and labels\n",
    "balancesheet_df = fetch_and_concat_data(tickers_df[\"Ticker\"], \"balance-sheet-statement\", base_url, 'v3', API_KEY)\n",
    "incomestatement_df = fetch_and_concat_data(tickers_df[\"Ticker\"], \"income-statement\", base_url,'v3', API_KEY)\n",
    "cashflowstatement_df = fetch_and_concat_data(tickers_df[\"Ticker\"], \"cash-flow-statement\", base_url,'v3', API_KEY)\n",
    "keymetrics_df = fetch_and_concat_data(tickers_df[\"Ticker\"], 'key-metrics', base_url,'v3', API_KEY)"
   ]
  },
  {
   "cell_type": "code",
   "execution_count": 46,
   "id": "56207fff",
   "metadata": {
    "scrolled": true
   },
   "outputs": [],
   "source": [
    "# Check which symbols are missing in balancesheet_df.symbol\n",
    "# missing_symbols = tickers_df[~tickers_df['Ticker'].isin(employeecount_df['symbol'])]\n",
    "\n",
    "# Print the missing symbols\n",
    "# print(\"Symbols missing in balancesheet_df:\")\n",
    "# print(missing_symbols)"
   ]
  },
  {
   "cell_type": "code",
   "execution_count": 47,
   "id": "758e7fcb",
   "metadata": {},
   "outputs": [],
   "source": [
    "import pandas as pd\n",
    "\n",
    "# Assuming dfs is a list of DataFrames: balancesheet_df, incomestatement_df, cashflowstatement_df, keymetrics_df\n",
    "dfs = [balancesheet_df, incomestatement_df, cashflowstatement_df, keymetrics_df]\n",
    "\n",
    "# Process each DataFrame in the list\n",
    "for df in dfs:\n",
    "    # Check if 'date' column exists to extract 'calendarYear'\n",
    "    if 'calendarYear' in df.columns:\n",
    "        df['calendarYear'] = pd.DatetimeIndex(df['calendarYear']).year  # Extract year from date\n",
    "        # Filter rows where 'calendarYear' is between 2007 and 2023\n",
    "        df = df[df['calendarYear'].between(1980, 2023)]\n"
   ]
  },
  {
   "cell_type": "code",
   "execution_count": 48,
   "id": "35cc52f1",
   "metadata": {},
   "outputs": [],
   "source": [
    "balancesheet_df = balancesheet_df[balancesheet_df['calendarYear'].between(1980, 2023)]\n",
    "incomestatement_df = incomestatement_df[incomestatement_df['calendarYear'].between(1980, 2023)]\n",
    "cashflowstatement_df = cashflowstatement_df[cashflowstatement_df['calendarYear'].between(1980, 2023)]\n",
    "keymetrics_df = keymetrics_df[keymetrics_df['calendarYear'].between(1980, 2023)]"
   ]
  },
  {
   "cell_type": "code",
   "execution_count": 49,
   "id": "b58081f1",
   "metadata": {
    "scrolled": true
   },
   "outputs": [
    {
     "name": "stderr",
     "output_type": "stream",
     "text": [
      "Fetching historical/employee_count data: 100%|██████████| 5/5 [00:04<00:00,  1.22ticker/s, Ticker=INTC]\n"
     ]
    }
   ],
   "source": [
    "import pandas as pd\n",
    "from tqdm import tqdm\n",
    "import numpy as np\n",
    "import requests\n",
    "\n",
    "def fetch_and_concat_data_v4(tickers,statement_type, base_url, version, API_KEY):\n",
    "    dfs = []  # List to store DataFrames for each company\n",
    "    years = range(2023, 1999, -1)  # Define range of years for synthetic data\n",
    "\n",
    "    # Initialize tqdm progress bar\n",
    "    progress_bar = tqdm(tickers, desc=f\"Fetching {statement_type} data\", unit=\"ticker\")\n",
    "    \n",
    "    for ticker in progress_bar:\n",
    "        progress_bar.set_postfix({\"Ticker\": ticker})\n",
    "        url = f\"{base_url}/{version}/{statement_type}?symbol={ticker}&apikey={API_KEY}\"\n",
    "        response = requests.get(url)\n",
    "        data = response.json()\n",
    "        df = pd.DataFrame(data)\n",
    "        df['Ticker'] = ticker  # Adding a column for ticker symbol\n",
    "        dfs.append(df)\n",
    "\n",
    "    # Concatenate all DataFrames into a single DataFrame\n",
    "    final_df = pd.concat(dfs, ignore_index=True)\n",
    "    return final_df\n",
    "\n",
    "employeecount_df = fetch_and_concat_data_v4(tickers_df[\"Ticker\"],'historical/employee_count', base_url, 'v4', API_KEY)\n"
   ]
  },
  {
   "cell_type": "code",
   "execution_count": 50,
   "id": "d8db3615",
   "metadata": {},
   "outputs": [],
   "source": [
    "import pandas as pd\n",
    "import numpy as np\n",
    "\n",
    "def fill_missing_values(employeecount_df, tickers_df):\n",
    "    # Loop through each ticker in tickers_df\n",
    "    for index, row in tickers_df.iterrows():\n",
    "        symbol = row['Ticker']\n",
    "\n",
    "        # Check if the symbol is in employeecount_df\n",
    "        if symbol not in employeecount_df['symbol'].values:\n",
    "            years = range(2023, 1980, -1)  # Define range of years for synthetic data\n",
    "            synthetic_data = {\n",
    "                'symbol': [symbol] * len(years),\n",
    "                'cik': [np.nan] * len(years),\n",
    "                'acceptanceTime': [np.nan] * len(years),\n",
    "                'periodOfReport': [f\"{year}\" for year in years],  # Example period of report dates\n",
    "                'formType': [np.nan] * len(years),\n",
    "                'filingDate': [np.nan] * len(years),\n",
    "                'employeeCount': [np.nan] * len(years),\n",
    "                'source': [np.nan] * len(years),\n",
    "            }\n",
    "            df = pd.DataFrame(synthetic_data)\n",
    "            employeecount_df = pd.concat([employeecount_df, df], ignore_index=True)\n",
    "        \n",
    "    return employeecount_df\n",
    "\n",
    "\n",
    "employeecount_df = fill_missing_values(employeecount_df, tickers_df)"
   ]
  },
  {
   "cell_type": "code",
   "execution_count": 51,
   "id": "966cd58b",
   "metadata": {},
   "outputs": [],
   "source": [
    "employeecount_df.rename(columns={\"periodOfReport\": 'calendarYear'}, inplace = True)"
   ]
  },
  {
   "cell_type": "code",
   "execution_count": 52,
   "id": "31ee8ae6",
   "metadata": {},
   "outputs": [],
   "source": [
    "employeecount_df['calendarYear'] = pd.to_datetime(employeecount_df['calendarYear']).dt.year"
   ]
  },
  {
   "cell_type": "code",
   "execution_count": 53,
   "id": "6b1e7210",
   "metadata": {},
   "outputs": [],
   "source": [
    "employeecount_df = employeecount_df[(employeecount_df['calendarYear'] >= 1980) & (employeecount_df['calendarYear'] <= 2023)]"
   ]
  },
  {
   "cell_type": "code",
   "execution_count": 54,
   "id": "4b71ca7b",
   "metadata": {},
   "outputs": [
    {
     "name": "stdout",
     "output_type": "stream",
     "text": [
      "<class 'pandas.core.frame.DataFrame'>\n",
      "Int64Index: 128 entries, 0 to 127\n",
      "Data columns (total 10 columns):\n",
      " #   Column          Non-Null Count  Dtype \n",
      "---  ------          --------------  ----- \n",
      " 0   symbol          128 non-null    object\n",
      " 1   cik             128 non-null    object\n",
      " 2   acceptanceTime  128 non-null    object\n",
      " 3   calendarYear    128 non-null    int64 \n",
      " 4   companyName     128 non-null    object\n",
      " 5   formType        128 non-null    object\n",
      " 6   filingDate      128 non-null    object\n",
      " 7   employeeCount   128 non-null    int64 \n",
      " 8   source          128 non-null    object\n",
      " 9   Ticker          128 non-null    object\n",
      "dtypes: int64(2), object(8)\n",
      "memory usage: 11.0+ KB\n"
     ]
    }
   ],
   "source": [
    "employeecount_df.info()"
   ]
  },
  {
   "cell_type": "markdown",
   "id": "a61af6f1",
   "metadata": {},
   "source": [
    "# Import Segement Data\n",
    "The segement data has the data type dictionaries. Therefore we need to request the data differenetly"
   ]
  },
  {
   "cell_type": "code",
   "execution_count": 55,
   "id": "f29dd9da",
   "metadata": {
    "scrolled": false
   },
   "outputs": [
    {
     "name": "stderr",
     "output_type": "stream",
     "text": [
      "C:\\Users\\morit\\AppData\\Local\\Temp\\ipykernel_33924\\1466956216.py:9: DeprecationWarning: cafile, capath and cadefault are deprecated, use a custom context instead.\n",
      "  with urlopen(url, cafile=certifi.where()) as response:\n",
      "C:\\Users\\morit\\AppData\\Local\\Temp\\ipykernel_33924\\1466956216.py:9: DeprecationWarning: cafile, capath and cadefault are deprecated, use a custom context instead.\n",
      "  with urlopen(url, cafile=certifi.where()) as response:\n"
     ]
    }
   ],
   "source": [
    "import pandas as pd\n",
    "import json\n",
    "from urllib.request import urlopen\n",
    "import certifi\n",
    "\n",
    "\n",
    "\n",
    "def get_jsonparsed_data(url):\n",
    "    with urlopen(url, cafile=certifi.where()) as response:\n",
    "        data = response.read().decode(\"utf-8\")\n",
    "    return json.loads(data)\n",
    "\n",
    "# Base URL and API key configuration\n",
    "base_url = \"https://financialmodelingprep.com/api/v4\"\n",
    "api_key = \"ieZWryBMhiEhowJQXvvJBSo8rcJfvMVi\"  # Replace 'YOUR_API_KEY' with your actual API key\n",
    "\n",
    "\n",
    "def fetch_ticker_data(tickers_df, base_url, datatype, api_key, endpoint_params=\"\"):\n",
    "    \n",
    "    \n",
    "    results = []\n",
    "    for index, row in tickers_df.iterrows():\n",
    "        symbol = row['Ticker']\n",
    "        url = f\"{base_url}/{datatype}?symbol={symbol}&structure=flat{endpoint_params}&apikey={api_key}\"\n",
    "        try:\n",
    "            data = get_jsonparsed_data(url)\n",
    "            results.append({'Ticker': symbol, 'Data': data})\n",
    "        except Exception as e:\n",
    "            print(f\"Failed to fetch data for {symbol}: {e}\")\n",
    "\n",
    "    return pd.DataFrame(results)\n",
    "\n",
    "\n",
    "geo_revenue_df = fetch_ticker_data(tickers_df, base_url, \"revenue-geographic-segmentation\",api_key)\n",
    "product_revenue_df = fetch_ticker_data(tickers_df, base_url,'revenue-product-segmentation',api_key)"
   ]
  },
  {
   "cell_type": "code",
   "execution_count": 56,
   "id": "8ac4cf29",
   "metadata": {},
   "outputs": [
    {
     "data": {
      "text/html": [
       "<div>\n",
       "<style scoped>\n",
       "    .dataframe tbody tr th:only-of-type {\n",
       "        vertical-align: middle;\n",
       "    }\n",
       "\n",
       "    .dataframe tbody tr th {\n",
       "        vertical-align: top;\n",
       "    }\n",
       "\n",
       "    .dataframe thead th {\n",
       "        text-align: right;\n",
       "    }\n",
       "</style>\n",
       "<table border=\"1\" class=\"dataframe\">\n",
       "  <thead>\n",
       "    <tr style=\"text-align: right;\">\n",
       "      <th></th>\n",
       "      <th>Ticker</th>\n",
       "      <th>Data</th>\n",
       "    </tr>\n",
       "  </thead>\n",
       "  <tbody>\n",
       "    <tr>\n",
       "      <th>0</th>\n",
       "      <td>HP</td>\n",
       "      <td>[{'2023-09-30': {'ARGENTINA': 137420000, 'AUST...</td>\n",
       "    </tr>\n",
       "    <tr>\n",
       "      <th>1</th>\n",
       "      <td>IBM</td>\n",
       "      <td>[{'2023-12-31': {'Americas': 31666000000, 'Asi...</td>\n",
       "    </tr>\n",
       "    <tr>\n",
       "      <th>2</th>\n",
       "      <td>CSCO</td>\n",
       "      <td>[{'2023-07-29': {'UNITED STATES': 33447000000,...</td>\n",
       "    </tr>\n",
       "    <tr>\n",
       "      <th>3</th>\n",
       "      <td>PYPL</td>\n",
       "      <td>[{'2023-12-31': {'Countries Other Than US And ...</td>\n",
       "    </tr>\n",
       "    <tr>\n",
       "      <th>4</th>\n",
       "      <td>INTC</td>\n",
       "      <td>[{'2023-12-30': {'China (Including Hong Kong)'...</td>\n",
       "    </tr>\n",
       "  </tbody>\n",
       "</table>\n",
       "</div>"
      ],
      "text/plain": [
       "  Ticker                                               Data\n",
       "0     HP  [{'2023-09-30': {'ARGENTINA': 137420000, 'AUST...\n",
       "1    IBM  [{'2023-12-31': {'Americas': 31666000000, 'Asi...\n",
       "2   CSCO  [{'2023-07-29': {'UNITED STATES': 33447000000,...\n",
       "3   PYPL  [{'2023-12-31': {'Countries Other Than US And ...\n",
       "4   INTC  [{'2023-12-30': {'China (Including Hong Kong)'..."
      ]
     },
     "execution_count": 56,
     "metadata": {},
     "output_type": "execute_result"
    }
   ],
   "source": [
    "geo_revenue_df"
   ]
  },
  {
   "cell_type": "code",
   "execution_count": 57,
   "id": "b80910fd",
   "metadata": {},
   "outputs": [],
   "source": [
    "import pandas as pd\n",
    "\n",
    "def aggregate_category_counts(df):\n",
    "    # List to hold the aggregated data\n",
    "    results = []\n",
    "\n",
    "    # Iterate over each row in the DataFrame\n",
    "    for index, row in df.iterrows():\n",
    "        Ticker = row['Ticker']\n",
    "        data_entries = row['Data']\n",
    "\n",
    "        if not data_entries:  # Check if the data_entries list is empty\n",
    "            # Generate rows for each year from 2023 to 2007\n",
    "            for year in range(2023, 1980, -1):\n",
    "                results.append({\n",
    "                    'Ticker': Ticker,\n",
    "                    'calendarYear': year,\n",
    "                    'Number of Product Segments': None\n",
    "                })\n",
    "        else:\n",
    "            # Process each year's data in the list\n",
    "            for entry in data_entries:\n",
    "                for year_date, revenues in entry.items():\n",
    "                    # Extract the year part from the date string\n",
    "                    year = pd.to_datetime(year_date).year\n",
    "\n",
    "                    # Count the number of unique product categories for the current year\n",
    "                    num_categories = len(revenues)\n",
    "\n",
    "                    # Append the result as a new row in the results list\n",
    "                    results.append({\n",
    "                        'Ticker': Ticker,\n",
    "                        'calendarYear': year,\n",
    "                        'Number of Product Segments': num_categories\n",
    "                    })\n",
    "\n",
    "    # Convert the results list to a DataFrame\n",
    "    return pd.DataFrame(results)\n",
    "\n",
    "# Example usage assuming product_revenue_df and geo_revenue_df are defined\n",
    "product_revenue_df = aggregate_category_counts(product_revenue_df)\n",
    "geo_revenue_df = aggregate_category_counts(geo_revenue_df)\n"
   ]
  },
  {
   "cell_type": "code",
   "execution_count": 58,
   "id": "692af122",
   "metadata": {},
   "outputs": [],
   "source": [
    "# Renaming 'Ticker' column to 'Symbol' in the DataFrame\n",
    "product_revenue_df = product_revenue_df.rename(columns={'Ticker': 'symbol'})\n",
    "geo_revenue_df = geo_revenue_df.rename(columns={'Ticker': 'symbol'})"
   ]
  },
  {
   "cell_type": "code",
   "execution_count": 59,
   "id": "37b31353",
   "metadata": {},
   "outputs": [],
   "source": [
    "product_revenue_df = product_revenue_df[product_revenue_df['calendarYear'].between(1980, 2023)]\n",
    "geo_revenue_df = geo_revenue_df[geo_revenue_df['calendarYear'].between(1980,2023)]"
   ]
  },
  {
   "cell_type": "markdown",
   "id": "adaa5a1a",
   "metadata": {},
   "source": [
    "# Preparing the Data, Filtering Out only the necessary collumns\n",
    "\n",
    "After fetching the data, we filter out only the necessary columns from each DataFrame"
   ]
  },
  {
   "cell_type": "code",
   "execution_count": 60,
   "id": "606038d8",
   "metadata": {
    "scrolled": true
   },
   "outputs": [],
   "source": [
    "balancesheet_df = balancesheet_df[['calendarYear', 'symbol','totalCurrentAssets','totalNonCurrentAssets', \n",
    "                                   'totalAssets', 'totalCurrentLiabilities','totalNonCurrentLiabilities',\n",
    "                                   'totalLiabilities']]\n",
    "\n",
    "\n",
    "incomestatement_df = incomestatement_df[['calendarYear', 'symbol','revenue', 'costOfRevenue', 'grossProfit',\n",
    "                                       'operatingExpenses', 'ebitda']]\n",
    "\n",
    "cashflowstatement_df = cashflowstatement_df[['calendarYear', 'symbol', 'acquisitionsNet','investmentsInPropertyPlantAndEquipment',   \n",
    "                                            'commonStockIssued','debtRepayment']]\n",
    "\n",
    "keymetrics_df = keymetrics_df[['calendarYear', 'symbol' ,\"debtToEquity\", 'debtToAssets', 'marketCap',                              \n",
    "                               'workingCapital', 'daysOfInventoryOnHand']]\n",
    "\n",
    "employeecount_df = employeecount_df[['calendarYear', 'symbol', 'employeeCount']]"
   ]
  },
  {
   "cell_type": "markdown",
   "id": "2c182a12",
   "metadata": {},
   "source": [
    "## Balance Sheet Ratios \n",
    "\n",
    "- (Assets/Total Assets) * 100\n",
    "- (Liabilities/Total Liabilities) * 100 "
   ]
  },
  {
   "cell_type": "code",
   "execution_count": 61,
   "id": "b75d1f69",
   "metadata": {},
   "outputs": [],
   "source": [
    "def calculate_feature_ratios(df, revenue_column='grossProfit'):\n",
    "    \n",
    "    # Create a copy of the original DataFrame to avoid modifying the original data\n",
    "    df_with_ratios = df.copy()\n",
    "    \n",
    "    # Calculate ratios for assets\n",
    "    asset_columns = ['totalCurrentAssets','totalNonCurrentAssets']\n",
    "    \n",
    "    total_assets = df_with_ratios[asset_columns].sum(axis=1)\n",
    "    \n",
    "    for feature_column in asset_columns:\n",
    "        df_with_ratios[f'{feature_column}_to_totalAssets_ratio'] = (df_with_ratios[feature_column] / total_assets) * 100\n",
    "    \n",
    "    # Calculate ratios for liabilities\n",
    "    liability_columns = ['totalCurrentLiabilities','totalNonCurrentLiabilities']\n",
    "    \n",
    "    total_liabilities = df_with_ratios[liability_columns].sum(axis=1)\n",
    "    \n",
    "    for feature_column in liability_columns:\n",
    "        df_with_ratios[f'{feature_column}_to_totalLiabilities_ratio'] = (df_with_ratios[feature_column] / total_liabilities) * 100\n",
    "    \n",
    "    # Drop the original features from the DataFrame\n",
    "    df_with_ratios.drop(columns=asset_columns + liability_columns, inplace=True)\n",
    "    \n",
    "    return df_with_ratios\n",
    "\n",
    "# Usage example:\n",
    "balancesheet_ratios_df = calculate_feature_ratios(balancesheet_df)                     "
   ]
  },
  {
   "cell_type": "markdown",
   "id": "d84b61f6",
   "metadata": {},
   "source": [
    "# Cashflow / Income Statement Ratios\n",
    "\n",
    "- (Columns / Revenue) * 100 \n",
    "\n",
    "Used Columns\n",
    "- *incomestatement_columns* = ['costOfRevenue', 'grossProfit', 'researchAndDevelopmentExpenses', \n",
    "                               'sellingGeneralAndAdministrativeExpenses', 'operatingExpenses', \n",
    "                               'costAndExpenses', 'ebitda', 'operatingIncome']\n",
    "                               \n",
    "- *cashflow_columns* = ['netCashProvidedByOperatingActivities', 'netCashUsedForInvestingActivites',\n",
    "                        'investmentsInPropertyPlantAndEquipment', 'freeCashFlow']"
   ]
  },
  {
   "cell_type": "code",
   "execution_count": 62,
   "id": "87b8450d",
   "metadata": {},
   "outputs": [],
   "source": [
    "\n",
    "def calculate_feature_ratios(df, revenue_column='grossProfit', revenue_df=None):\n",
    "    # Verify input DataFrame and revenue DataFrame are provided\n",
    "    if df is None or revenue_df is None:\n",
    "        raise ValueError(\"Both 'df' and 'revenue_df' must be provided.\")\n",
    "    \n",
    "    # Verify the revenue column exists in revenue_df\n",
    "    if revenue_column not in revenue_df.columns:\n",
    "        raise ValueError(f\"The revenue column '{revenue_column}' was not found in the revenue DataFrame.\")\n",
    "    \n",
    "    # Create a copy of the original DataFrame to avoid modifying the original data\n",
    "    df_with_ratios = df.copy()\n",
    "    \n",
    "    # Define the columns for which to calculate ratios related to income statements\n",
    "    incomestatement_columns = ['revenue', 'costOfRevenue', 'grossProfit', 'operatingExpenses', 'ebitda',]\n",
    "    \n",
    "    # Calculate ratios for income statement features\n",
    "    for feature_column in incomestatement_columns:\n",
    "        if feature_column in df_with_ratios.columns:\n",
    "            df_with_ratios[f'{feature_column}_to_Revenue_ratio'] = (df_with_ratios[feature_column] / revenue_df[revenue_column]) * 100\n",
    "    \n",
    "    # Define the columns for cash flow calculation\n",
    "    cashflow_columns = ['acquisitionsNet','investmentsInPropertyPlantAndEquipment','commonStockIssued','debtRepayment',]\n",
    "    \n",
    "    # Calculate ratios for cash flow features\n",
    "    for feature_column in cashflow_columns:\n",
    "        if feature_column in df_with_ratios.columns:\n",
    "            df_with_ratios[f'{feature_column}_to_Revenue_ratio'] = (df_with_ratios[feature_column] / revenue_df[revenue_column]) * 100\n",
    "    \n",
    "    return df_with_ratios\n",
    "\n",
    "# Corrected example usage:\n",
    "cashflowstatement_ratios_df = calculate_feature_ratios(cashflowstatement_df, revenue_column='revenue', revenue_df=incomestatement_df)\n",
    "incomestatement_ratios_df = calculate_feature_ratios(incomestatement_df, revenue_column='revenue', revenue_df=incomestatement_df)"
   ]
  },
  {
   "cell_type": "code",
   "execution_count": 63,
   "id": "74aea621",
   "metadata": {
    "scrolled": true
   },
   "outputs": [],
   "source": [
    "cashflowstatement_ratios_df = cashflowstatement_ratios_df.reset_index()\n",
    "incomestatement_ratios_df = incomestatement_ratios_df.reset_index()"
   ]
  },
  {
   "cell_type": "markdown",
   "id": "5053a2d0",
   "metadata": {},
   "source": [
    "# Key Metrics Ratio \n",
    "\n",
    "- Here we just need the Ratio working capital / Revenue "
   ]
  },
  {
   "cell_type": "code",
   "execution_count": 64,
   "id": "9b6e3633",
   "metadata": {
    "scrolled": true
   },
   "outputs": [],
   "source": [
    "keymetrics_df\n",
    "keymetrics_df[\"workingCapital_to_revenue_Ratio\"] = (keymetrics_df[\"workingCapital\"]/incomestatement_df[\"revenue\"])*100\n",
    "keymetrics_ratios_df = keymetrics_df.copy()\n",
    "keymetrics_ratios_df.drop(\"workingCapital\", axis = 1, inplace=True)"
   ]
  },
  {
   "cell_type": "markdown",
   "id": "7a915875",
   "metadata": {},
   "source": [
    "# Employee Count / Revenue Measure"
   ]
  },
  {
   "cell_type": "code",
   "execution_count": 65,
   "id": "3a535d78",
   "metadata": {},
   "outputs": [],
   "source": [
    "incomestatement_df_red = incomestatement_df[[\"calendarYear\", \"symbol\", \"revenue\"]]\n",
    "employeecount_df[[\"calendarYear\", \"symbol\"]] = employeecount_df[[\"calendarYear\", \"symbol\"]].astype(\"object\")"
   ]
  },
  {
   "cell_type": "code",
   "execution_count": 66,
   "id": "eec74440",
   "metadata": {
    "scrolled": true
   },
   "outputs": [
    {
     "data": {
      "text/html": [
       "<div>\n",
       "<style scoped>\n",
       "    .dataframe tbody tr th:only-of-type {\n",
       "        vertical-align: middle;\n",
       "    }\n",
       "\n",
       "    .dataframe tbody tr th {\n",
       "        vertical-align: top;\n",
       "    }\n",
       "\n",
       "    .dataframe thead th {\n",
       "        text-align: right;\n",
       "    }\n",
       "</style>\n",
       "<table border=\"1\" class=\"dataframe\">\n",
       "  <thead>\n",
       "    <tr style=\"text-align: right;\">\n",
       "      <th></th>\n",
       "      <th>calendarYear</th>\n",
       "      <th>symbol</th>\n",
       "      <th>employeeCount</th>\n",
       "      <th>revenue</th>\n",
       "      <th>employee_revenue_ratio</th>\n",
       "    </tr>\n",
       "  </thead>\n",
       "  <tbody>\n",
       "    <tr>\n",
       "      <th>0</th>\n",
       "      <td>2023</td>\n",
       "      <td>HP</td>\n",
       "      <td>6200</td>\n",
       "      <td>2872421000</td>\n",
       "      <td>0.000216</td>\n",
       "    </tr>\n",
       "    <tr>\n",
       "      <th>1</th>\n",
       "      <td>2022</td>\n",
       "      <td>HP</td>\n",
       "      <td>7000</td>\n",
       "      <td>2058944000</td>\n",
       "      <td>0.000340</td>\n",
       "    </tr>\n",
       "    <tr>\n",
       "      <th>2</th>\n",
       "      <td>2021</td>\n",
       "      <td>HP</td>\n",
       "      <td>5444</td>\n",
       "      <td>1218568000</td>\n",
       "      <td>0.000447</td>\n",
       "    </tr>\n",
       "    <tr>\n",
       "      <th>3</th>\n",
       "      <td>2020</td>\n",
       "      <td>HP</td>\n",
       "      <td>3634</td>\n",
       "      <td>1773927000</td>\n",
       "      <td>0.000205</td>\n",
       "    </tr>\n",
       "    <tr>\n",
       "      <th>4</th>\n",
       "      <td>2019</td>\n",
       "      <td>HP</td>\n",
       "      <td>7767</td>\n",
       "      <td>2798490000</td>\n",
       "      <td>0.000278</td>\n",
       "    </tr>\n",
       "  </tbody>\n",
       "</table>\n",
       "</div>"
      ],
      "text/plain": [
       "  calendarYear symbol  employeeCount     revenue  employee_revenue_ratio\n",
       "0         2023     HP           6200  2872421000                0.000216\n",
       "1         2022     HP           7000  2058944000                0.000340\n",
       "2         2021     HP           5444  1218568000                0.000447\n",
       "3         2020     HP           3634  1773927000                0.000205\n",
       "4         2019     HP           7767  2798490000                0.000278"
      ]
     },
     "execution_count": 66,
     "metadata": {},
     "output_type": "execute_result"
    }
   ],
   "source": [
    "import pandas as pd\n",
    "\n",
    "# Assuming employeecount_df and incomestatement_df are your DataFrames\n",
    "\n",
    "# Convert calendarYear and symbol columns to string and trim any whitespaces\n",
    "for df in [employeecount_df, incomestatement_df]:\n",
    "    df['calendarYear'] = df['calendarYear'].astype(str).str.strip()\n",
    "    df['symbol'] = df['symbol'].astype(str).str.strip()\n",
    "\n",
    "# Filter the incomestatement_df to include only the necessary columns\n",
    "incomestatement_reduced = incomestatement_df[['calendarYear', 'symbol', 'revenue']]\n",
    "\n",
    "# Perform the merge using an inner join\n",
    "employeecount_ratios_df = pd.merge(employeecount_df, incomestatement_reduced, on=['calendarYear', 'symbol'], how='inner')\n",
    "employeecount_ratios_df[\"employee_revenue_ratio\"] = (employeecount_ratios_df[\"employeeCount\"]/employeecount_ratios_df[\"revenue\"])*100\n",
    "employeecount_ratios_df.head()"
   ]
  },
  {
   "cell_type": "markdown",
   "id": "59328829",
   "metadata": {},
   "source": [
    "## Analyst Recommendations\n",
    "\n",
    "\\begin{align*}\n",
    "\\text{WARS} = \\frac{(3 \\times \\text{analystRatingsStrongBuy}) + (2 \\times \\text{analystRatingsBuy}) + (\\text{analystRatingsHold}) - (2 \\times \\text{analystRatingsSell}) - (3 \\times \\text{analystRatingsStrongSell})}{\\text{Total Ratings}}\n",
    "\\end{align*}\n",
    "\n",
    "\n",
    "Assign Weights to Each Category:\n",
    "Strong Buy: +3\n",
    "Buy: +2\n",
    "Hold: +1\n",
    "Sell: -2\n",
    "Strong Sell: -3\n",
    "\n",
    "\n",
    "- With this Ratio, we can evaluate the sentiment of analysts, \n"
   ]
  },
  {
   "cell_type": "markdown",
   "id": "3e5a70d4",
   "metadata": {},
   "source": [
    "## Partners"
   ]
  },
  {
   "cell_type": "code",
   "execution_count": 67,
   "id": "9e8ddfb9",
   "metadata": {},
   "outputs": [
    {
     "data": {
      "text/html": [
       "<div>\n",
       "<style scoped>\n",
       "    .dataframe tbody tr th:only-of-type {\n",
       "        vertical-align: middle;\n",
       "    }\n",
       "\n",
       "    .dataframe tbody tr th {\n",
       "        vertical-align: top;\n",
       "    }\n",
       "\n",
       "    .dataframe thead th {\n",
       "        text-align: right;\n",
       "    }\n",
       "</style>\n",
       "<table border=\"1\" class=\"dataframe\">\n",
       "  <thead>\n",
       "    <tr style=\"text-align: right;\">\n",
       "      <th></th>\n",
       "      <th>calendarYear</th>\n",
       "      <th>symbol</th>\n",
       "      <th>totalCurrentAssets</th>\n",
       "      <th>totalNonCurrentAssets</th>\n",
       "      <th>totalAssets</th>\n",
       "      <th>totalCurrentLiabilities</th>\n",
       "      <th>totalNonCurrentLiabilities</th>\n",
       "      <th>totalLiabilities</th>\n",
       "    </tr>\n",
       "  </thead>\n",
       "  <tbody>\n",
       "    <tr>\n",
       "      <th>0</th>\n",
       "      <td>2023</td>\n",
       "      <td>HP</td>\n",
       "      <td>1006625000</td>\n",
       "      <td>3375331000</td>\n",
       "      <td>4381956000</td>\n",
       "      <td>418931000</td>\n",
       "      <td>1191082000</td>\n",
       "      <td>1610013000</td>\n",
       "    </tr>\n",
       "    <tr>\n",
       "      <th>1</th>\n",
       "      <td>2022</td>\n",
       "      <td>HP</td>\n",
       "      <td>1002944000</td>\n",
       "      <td>3352587000</td>\n",
       "      <td>4355531000</td>\n",
       "      <td>394810000</td>\n",
       "      <td>1195249000</td>\n",
       "      <td>1590059000</td>\n",
       "    </tr>\n",
       "    <tr>\n",
       "      <th>2</th>\n",
       "      <td>2021</td>\n",
       "      <td>HP</td>\n",
       "      <td>1586566000</td>\n",
       "      <td>3447562000</td>\n",
       "      <td>5034128000</td>\n",
       "      <td>866306000</td>\n",
       "      <td>1255204000</td>\n",
       "      <td>2121510000</td>\n",
       "    </tr>\n",
       "    <tr>\n",
       "      <th>3</th>\n",
       "      <td>2020</td>\n",
       "      <td>HP</td>\n",
       "      <td>963327000</td>\n",
       "      <td>3866294000</td>\n",
       "      <td>4829621000</td>\n",
       "      <td>219136000</td>\n",
       "      <td>1291971000</td>\n",
       "      <td>1511107000</td>\n",
       "    </tr>\n",
       "    <tr>\n",
       "      <th>4</th>\n",
       "      <td>2019</td>\n",
       "      <td>HP</td>\n",
       "      <td>1115086000</td>\n",
       "      <td>4724429000</td>\n",
       "      <td>5839515000</td>\n",
       "      <td>410238000</td>\n",
       "      <td>1417054000</td>\n",
       "      <td>1827292000</td>\n",
       "    </tr>\n",
       "  </tbody>\n",
       "</table>\n",
       "</div>"
      ],
      "text/plain": [
       "   calendarYear symbol  totalCurrentAssets  totalNonCurrentAssets  \\\n",
       "0          2023     HP          1006625000             3375331000   \n",
       "1          2022     HP          1002944000             3352587000   \n",
       "2          2021     HP          1586566000             3447562000   \n",
       "3          2020     HP           963327000             3866294000   \n",
       "4          2019     HP          1115086000             4724429000   \n",
       "\n",
       "   totalAssets  totalCurrentLiabilities  totalNonCurrentLiabilities  \\\n",
       "0   4381956000                418931000                  1191082000   \n",
       "1   4355531000                394810000                  1195249000   \n",
       "2   5034128000                866306000                  1255204000   \n",
       "3   4829621000                219136000                  1291971000   \n",
       "4   5839515000                410238000                  1417054000   \n",
       "\n",
       "   totalLiabilities  \n",
       "0        1610013000  \n",
       "1        1590059000  \n",
       "2        2121510000  \n",
       "3        1511107000  \n",
       "4        1827292000  "
      ]
     },
     "execution_count": 67,
     "metadata": {},
     "output_type": "execute_result"
    }
   ],
   "source": [
    "balancesheet_df.head()"
   ]
  },
  {
   "cell_type": "markdown",
   "id": "93de52c6",
   "metadata": {},
   "source": [
    "# Dropping Columns"
   ]
  },
  {
   "cell_type": "markdown",
   "id": "da7c6ae9",
   "metadata": {},
   "source": [
    "Cashflow-Statements Collumn Drops"
   ]
  },
  {
   "cell_type": "code",
   "execution_count": 68,
   "id": "28b15de2",
   "metadata": {},
   "outputs": [],
   "source": [
    "cs_2_drop = cashflowstatement_ratios_df[['acquisitionsNet','investmentsInPropertyPlantAndEquipment','commonStockIssued',\n",
    "                                        'debtRepayment']]\n",
    "cashflowstatement_ratios_df.drop(columns=cs_2_drop, axis=1, inplace=True )"
   ]
  },
  {
   "cell_type": "code",
   "execution_count": 69,
   "id": "d79e09de",
   "metadata": {},
   "outputs": [],
   "source": [
    "is_2_drop = incomestatement_ratios_df[[\"revenue\", 'costOfRevenue', 'grossProfit', 'operatingExpenses', 'ebitda' ]]\n",
    "incomestatement_ratios_df.drop(columns=is_2_drop, axis = 1, inplace=True)"
   ]
  },
  {
   "cell_type": "code",
   "execution_count": 70,
   "id": "04849009",
   "metadata": {},
   "outputs": [],
   "source": [
    "bs_2_drop = balancesheet_df[[\"totalAssets\", \"totalLiabilities\"]]\n",
    "balancesheet_ratios_df.drop(columns=bs_2_drop, axis=1, inplace=True)"
   ]
  },
  {
   "cell_type": "code",
   "execution_count": 71,
   "id": "a63847a8",
   "metadata": {},
   "outputs": [],
   "source": [
    "ec_2_drop = employeecount_ratios_df[[\"revenue\", \"employeeCount\"]]\n",
    "employeecount_ratios_df.drop(columns=ec_2_drop, axis =1, inplace = True)"
   ]
  },
  {
   "cell_type": "markdown",
   "id": "8385a245",
   "metadata": {},
   "source": [
    "# Final Financial Ratios\n",
    "\n",
    "- cashflowstatement_ratios_df\n",
    "- incomestatement_ratios_df\n",
    "- balancesheet_ratios_df\n",
    "- keymetrics_ratios_df\n",
    "- employeecount_ratios_df\n",
    "- product_revenue_df\n",
    "- geo_revenue_df"
   ]
  },
  {
   "cell_type": "code",
   "execution_count": null,
   "id": "4aa8ba2f",
   "metadata": {},
   "outputs": [],
   "source": []
  },
  {
   "cell_type": "code",
   "execution_count": 72,
   "id": "4126de98",
   "metadata": {},
   "outputs": [],
   "source": [
    "dfs = [cashflowstatement_ratios_df, incomestatement_ratios_df, balancesheet_ratios_df, keymetrics_ratios_df, \n",
    "          employeecount_ratios_df, product_revenue_df, geo_revenue_df]"
   ]
  },
  {
   "cell_type": "markdown",
   "id": "d2cd4f9e",
   "metadata": {},
   "source": [
    "## Imputing missing values using Regression\n",
    "- When we inspect the distinct dataframes, we can observe that they have different lengths, indicating that there are missing values.\n",
    "\n",
    "- However, to merge the dfs we need the same lenghts an no missing values, thus we use regression as an imputation method\n",
    "\n",
    "- The following function checks for every ticker if there is a missing value (year) creates and fills the row with the value obtained from the regression"
   ]
  },
  {
   "cell_type": "code",
   "execution_count": 73,
   "id": "c5a02112",
   "metadata": {},
   "outputs": [],
   "source": [
    "import pandas as pd\n",
    "import numpy as np\n",
    "from sklearn.linear_model import LinearRegression\n",
    "\n",
    "def fill_missing_years(df, start_year=1980, end_year=2023):\n",
    "    # Ensure 'calendarYear' is treated as integers\n",
    "    df['calendarYear'] = pd.to_numeric(df['calendarYear'], errors='coerce').fillna(0).astype(int)\n",
    "    \n",
    "    # Create a list of all years in the range\n",
    "    all_years = list(range(start_year, end_year + 1))\n",
    "    \n",
    "    # Get all unique tickers\n",
    "    all_tickers = df['symbol'].unique()\n",
    "    \n",
    "    # Create a new dataframe with all combinations of tickers and years\n",
    "    full_index = pd.MultiIndex.from_product([all_tickers, all_years], names=['symbol', 'calendarYear'])\n",
    "    full_df = pd.DataFrame(index=full_index).reset_index()\n",
    "    \n",
    "    # Merge the original dataframe with the full dataframe\n",
    "    df_filled = full_df.merge(df, on=['symbol', 'calendarYear'], how='left')\n",
    "    \n",
    "    return df_filled\n",
    "\n",
    "def impute_missing_data(df):\n",
    "    # Ensure DataFrame has unique symbol-year combinations\n",
    "    df = df.drop_duplicates(subset=['symbol', 'calendarYear'], keep='first')\n",
    "    \n",
    "    # Fill missing years\n",
    "    df = fill_missing_years(df)\n",
    "    \n",
    "    # Replace infinite values with NaN\n",
    "    df.replace([np.inf, -np.inf], np.nan, inplace=True)\n",
    "    \n",
    "    # Group by ticker symbol and impute missing data for numeric columns using regression\n",
    "    for symbol in df['symbol'].unique():\n",
    "        ticker_group = df[df['symbol'] == symbol]\n",
    "        numeric_cols = ticker_group.select_dtypes(include=['number']).columns.difference(['calendarYear', 'symbol'])\n",
    "        \n",
    "        for col in numeric_cols:\n",
    "            not_null_data = ticker_group[ticker_group[col].notnull() & (ticker_group[col] != 0)]\n",
    "            null_data = ticker_group[ticker_group[col].isnull() | (ticker_group[col] == 0)]\n",
    "            \n",
    "            if not not_null_data.empty and not null_data.empty:\n",
    "                predictors = ['calendarYear']\n",
    "                valid_data = not_null_data.dropna(subset=predictors)\n",
    "                \n",
    "                if len(valid_data) > 0:\n",
    "                    reg = LinearRegression()\n",
    "                    reg.fit(valid_data[predictors], valid_data[col])\n",
    "                    \n",
    "                    # Predict missing or zero values if predictors are available\n",
    "                    predictors_null = null_data[predictors].dropna()\n",
    "                    if not predictors_null.empty:\n",
    "                        predicted_values = reg.predict(predictors_null)\n",
    "                        df.loc[predictors_null.index, col] = predicted_values\n",
    "    \n",
    "    # Check and correct unrealistic values for gross profit margin and cost of revenue\n",
    "    if 'grossProfit_to_Revenue_ratio' in df.columns:\n",
    "        df.loc[df['grossProfit_to_Revenue_ratio'] > 100, 'grossProfit_to_Revenue_ratio'] = np.nan\n",
    "    \n",
    "    if 'costOfRevenue_to_Revenue_ratio' in df.columns:\n",
    "        df.loc[df['costOfRevenue_to_Revenue_ratio'] == 0, 'costOfRevenue_to_Revenue_ratio'] = np.nan\n",
    "    \n",
    "    # Finalize DataFrame by sorting and potentially filling any remaining missing numeric data with 0 or other methods\n",
    "    df = df.sort_values(by=['symbol', 'calendarYear'])\n",
    "    \n",
    "    # Optionally fill any remaining NaNs with 0 or other values\n",
    "    df.fillna(0, inplace=True)\n",
    "    \n",
    "    return df\n",
    "\n",
    "\n",
    "\n",
    "# Applying the function to each dataframe in the list\n",
    "balancesheet_ratios_df = fill_missing_years(balancesheet_ratios_df)\n",
    "cashflowstatement_ratios_df = fill_missing_years(cashflowstatement_ratios_df)\n",
    "incomestatement_ratios_df = fill_missing_years(incomestatement_ratios_df)\n",
    "keymetrics_ratios_df = fill_missing_years(keymetrics_ratios_df)\n",
    "employeecount_ratios_df = fill_missing_years(employeecount_ratios_df)\n",
    "product_revenue_df = fill_missing_years(product_revenue_df)\n",
    "geo_revenue_df = fill_missing_years(geo_revenue_df)\n",
    "\n",
    "balancesheet_ratios_df = impute_missing_data(balancesheet_ratios_df)\n",
    "cashflowstatement_ratios_df = impute_missing_data(cashflowstatement_ratios_df)\n",
    "incomestatement_ratios_df = impute_missing_data(incomestatement_ratios_df)\n",
    "keymetrics_ratios_df = impute_missing_data(keymetrics_ratios_df)\n",
    "employeecount_ratios_df = impute_missing_data(employeecount_ratios_df)\n",
    "product_revenue_df = impute_missing_data(product_revenue_df)\n",
    "geo_revenue_df = impute_missing_data(geo_revenue_df)\n",
    "\n"
   ]
  },
  {
   "cell_type": "code",
   "execution_count": 74,
   "id": "06127a44",
   "metadata": {
    "scrolled": true
   },
   "outputs": [
    {
     "name": "stdout",
     "output_type": "stream",
     "text": [
      "<class 'pandas.core.frame.DataFrame'>\n",
      "Int64Index: 220 entries, 88 to 175\n",
      "Data columns (total 6 columns):\n",
      " #   Column                                                Non-Null Count  Dtype  \n",
      "---  ------                                                --------------  -----  \n",
      " 0   symbol                                                220 non-null    object \n",
      " 1   calendarYear                                          220 non-null    int64  \n",
      " 2   totalCurrentAssets_to_totalAssets_ratio               220 non-null    float64\n",
      " 3   totalNonCurrentAssets_to_totalAssets_ratio            220 non-null    float64\n",
      " 4   totalCurrentLiabilities_to_totalLiabilities_ratio     220 non-null    float64\n",
      " 5   totalNonCurrentLiabilities_to_totalLiabilities_ratio  220 non-null    float64\n",
      "dtypes: float64(4), int64(1), object(1)\n",
      "memory usage: 12.0+ KB\n",
      "<class 'pandas.core.frame.DataFrame'>\n",
      "Int64Index: 220 entries, 88 to 175\n",
      "Data columns (total 8 columns):\n",
      " #   Column                              Non-Null Count  Dtype  \n",
      "---  ------                              --------------  -----  \n",
      " 0   symbol                              220 non-null    object \n",
      " 1   calendarYear                        220 non-null    int64  \n",
      " 2   index                               220 non-null    float64\n",
      " 3   revenue_to_Revenue_ratio            220 non-null    float64\n",
      " 4   costOfRevenue_to_Revenue_ratio      220 non-null    float64\n",
      " 5   grossProfit_to_Revenue_ratio        220 non-null    float64\n",
      " 6   operatingExpenses_to_Revenue_ratio  220 non-null    float64\n",
      " 7   ebitda_to_Revenue_ratio             220 non-null    float64\n",
      "dtypes: float64(6), int64(1), object(1)\n",
      "memory usage: 15.5+ KB\n",
      "<class 'pandas.core.frame.DataFrame'>\n",
      "Int64Index: 220 entries, 88 to 175\n",
      "Data columns (total 7 columns):\n",
      " #   Column                                                   Non-Null Count  Dtype  \n",
      "---  ------                                                   --------------  -----  \n",
      " 0   symbol                                                   220 non-null    object \n",
      " 1   calendarYear                                             220 non-null    int64  \n",
      " 2   index                                                    220 non-null    float64\n",
      " 3   acquisitionsNet_to_Revenue_ratio                         220 non-null    float64\n",
      " 4   investmentsInPropertyPlantAndEquipment_to_Revenue_ratio  220 non-null    float64\n",
      " 5   commonStockIssued_to_Revenue_ratio                       220 non-null    float64\n",
      " 6   debtRepayment_to_Revenue_ratio                           220 non-null    float64\n",
      "dtypes: float64(5), int64(1), object(1)\n",
      "memory usage: 13.8+ KB\n",
      "<class 'pandas.core.frame.DataFrame'>\n",
      "Int64Index: 220 entries, 88 to 175\n",
      "Data columns (total 7 columns):\n",
      " #   Column                           Non-Null Count  Dtype  \n",
      "---  ------                           --------------  -----  \n",
      " 0   symbol                           220 non-null    object \n",
      " 1   calendarYear                     220 non-null    int64  \n",
      " 2   debtToEquity                     220 non-null    float64\n",
      " 3   debtToAssets                     220 non-null    float64\n",
      " 4   marketCap                        220 non-null    float64\n",
      " 5   daysOfInventoryOnHand            220 non-null    float64\n",
      " 6   workingCapital_to_revenue_Ratio  220 non-null    float64\n",
      "dtypes: float64(5), int64(1), object(1)\n",
      "memory usage: 13.8+ KB\n",
      "<class 'pandas.core.frame.DataFrame'>\n",
      "Int64Index: 220 entries, 88 to 175\n",
      "Data columns (total 3 columns):\n",
      " #   Column                  Non-Null Count  Dtype  \n",
      "---  ------                  --------------  -----  \n",
      " 0   symbol                  220 non-null    object \n",
      " 1   calendarYear            220 non-null    int64  \n",
      " 2   employee_revenue_ratio  220 non-null    float64\n",
      "dtypes: float64(1), int64(1), object(1)\n",
      "memory usage: 6.9+ KB\n",
      "<class 'pandas.core.frame.DataFrame'>\n",
      "Int64Index: 220 entries, 88 to 175\n",
      "Data columns (total 3 columns):\n",
      " #   Column                      Non-Null Count  Dtype  \n",
      "---  ------                      --------------  -----  \n",
      " 0   symbol                      220 non-null    object \n",
      " 1   calendarYear                220 non-null    int64  \n",
      " 2   Number of Product Segments  220 non-null    float64\n",
      "dtypes: float64(1), int64(1), object(1)\n",
      "memory usage: 6.9+ KB\n",
      "<class 'pandas.core.frame.DataFrame'>\n",
      "Int64Index: 220 entries, 88 to 175\n",
      "Data columns (total 3 columns):\n",
      " #   Column                      Non-Null Count  Dtype  \n",
      "---  ------                      --------------  -----  \n",
      " 0   symbol                      220 non-null    object \n",
      " 1   calendarYear                220 non-null    int64  \n",
      " 2   Number of Product Segments  220 non-null    float64\n",
      "dtypes: float64(1), int64(1), object(1)\n",
      "memory usage: 6.9+ KB\n"
     ]
    }
   ],
   "source": [
    "balancesheet_ratios_df.info()\n",
    "incomestatement_ratios_df.info()\n",
    "cashflowstatement_ratios_df.info()\n",
    "keymetrics_ratios_df.info()\n",
    "employeecount_ratios_df.info() \n",
    "geo_revenue_df.info()\n",
    "product_revenue_df.info()"
   ]
  },
  {
   "cell_type": "code",
   "execution_count": 75,
   "id": "ec2641be",
   "metadata": {},
   "outputs": [
    {
     "name": "stdout",
     "output_type": "stream",
     "text": [
      "     index  calendarYear symbol  acquisitionsNet_to_Revenue_ratio  \\\n",
      "0      0.0          2023     HP                         -0.008703   \n",
      "1      1.0          2022     HP                         -0.012142   \n",
      "2      2.0          2021     HP                          6.741355   \n",
      "3      3.0          2020     HP                          0.848738   \n",
      "4      4.0          2019     HP                         -0.577561   \n",
      "..     ...           ...    ...                               ...   \n",
      "160    NaN          1988   CSCO                               NaN   \n",
      "161    NaN          1988   INTC                               NaN   \n",
      "162    NaN          1987   INTC                               NaN   \n",
      "163    NaN          1986   INTC                               NaN   \n",
      "164    NaN          1985   INTC                               NaN   \n",
      "\n",
      "     investmentsInPropertyPlantAndEquipment_to_Revenue_ratio  \\\n",
      "0                                           -13.767480         \n",
      "1                                           -13.236834         \n",
      "2                                            -6.741355         \n",
      "3                                            -7.936911         \n",
      "4                                           -16.380334         \n",
      "..                                                 ...         \n",
      "160                                                NaN         \n",
      "161                                                NaN         \n",
      "162                                                NaN         \n",
      "163                                                NaN         \n",
      "164                                                NaN         \n",
      "\n",
      "     commonStockIssued_to_Revenue_ratio  debtRepayment_to_Revenue_ratio  \\\n",
      "0                              0.000000                        0.000000   \n",
      "1                              0.000000                      -23.660090   \n",
      "2                            -44.529481                      -44.706902   \n",
      "3                              0.231126                       -0.231126   \n",
      "4                              0.568342                       -0.459248   \n",
      "..                                  ...                             ...   \n",
      "160                                 NaN                             NaN   \n",
      "161                                 NaN                             NaN   \n",
      "162                                 NaN                             NaN   \n",
      "163                                 NaN                             NaN   \n",
      "164                                 NaN                             NaN   \n",
      "\n",
      "     revenue_to_Revenue_ratio  costOfRevenue_to_Revenue_ratio  \\\n",
      "0                       100.0                       73.018962   \n",
      "1                       100.0                       89.094070   \n",
      "2                       100.0                      113.039568   \n",
      "3                       100.0                       94.279528   \n",
      "4                       100.0                       84.738162   \n",
      "..                        ...                             ...   \n",
      "160                     100.0                       43.636364   \n",
      "161                     100.0                       45.046612   \n",
      "162                     100.0                       45.729118   \n",
      "163                     100.0                       54.324111   \n",
      "164                     100.0                       56.937729   \n",
      "\n",
      "     grossProfit_to_Revenue_ratio  ...  \\\n",
      "0                       26.981038  ...   \n",
      "1                       10.905930  ...   \n",
      "2                      -13.039568  ...   \n",
      "3                        5.720472  ...   \n",
      "4                       15.261838  ...   \n",
      "..                            ...  ...   \n",
      "160                     56.363636  ...   \n",
      "161                     54.953388  ...   \n",
      "162                     54.270882  ...   \n",
      "163                     45.675889  ...   \n",
      "164                     43.062271  ...   \n",
      "\n",
      "     totalCurrentLiabilities_to_totalLiabilities_ratio  \\\n",
      "0                                            26.020349   \n",
      "1                                            24.829896   \n",
      "2                                            40.834406   \n",
      "3                                            14.501687   \n",
      "4                                            22.450599   \n",
      "..                                                 ...   \n",
      "160                                          39.534884   \n",
      "161                                          63.554709   \n",
      "162                                          68.306477   \n",
      "163                                          46.508449   \n",
      "164                                          41.990690   \n",
      "\n",
      "     totalNonCurrentLiabilities_to_totalLiabilities_ratio  debtToEquity  \\\n",
      "0                                            73.979651         0.216438   \n",
      "1                                            75.170104         0.200686   \n",
      "2                                            59.165594         0.352083   \n",
      "3                                            85.498313         0.148287   \n",
      "4                                            77.549401         0.119474   \n",
      "..                                                 ...              ...   \n",
      "160                                          60.465116         0.000000   \n",
      "161                                          36.445291         0.326667   \n",
      "162                                          31.693523         0.459660   \n",
      "163                                          53.491551         0.312657   \n",
      "164                                          58.009310         0.253043   \n",
      "\n",
      "     debtToAssets     marketCap  daysOfInventoryOnHand  \\\n",
      "0        0.136915  4.319166e+09              16.397758   \n",
      "1        0.127422  3.914790e+09              17.501285   \n",
      "2        0.203706  2.955291e+09              22.273399   \n",
      "3        0.101890  1.582332e+09              22.736524   \n",
      "4        0.082088  4.376285e+09              23.034325   \n",
      "..            ...           ...                    ...   \n",
      "160      0.000000  3.090320e+06             182.500000   \n",
      "161      0.191425  3.734865e+09             103.130116   \n",
      "162      0.231211  3.633420e+09              98.563811   \n",
      "163      0.191683  2.004844e+09             105.112776   \n",
      "164      0.167155  3.393613e+09              80.213587   \n",
      "\n",
      "     workingCapital_to_revenue_Ratio  employee_revenue_ratio  \\\n",
      "0                          20.459884                0.000216   \n",
      "1                          29.536209                0.000340   \n",
      "2                          59.107083                0.000447   \n",
      "3                          41.951614                0.000205   \n",
      "4                          25.186726                0.000278   \n",
      "..                               ...                     ...   \n",
      "160                        50.909091                     NaN   \n",
      "161                        36.033811                     NaN   \n",
      "162                        28.792407                     NaN   \n",
      "163                        51.335968                     NaN   \n",
      "164                        52.542125                     NaN   \n",
      "\n",
      "     Number of Product Segments_x  Number of Product Segments_y  \n",
      "0                             3.0                           6.0  \n",
      "1                             1.0                           5.0  \n",
      "2                             1.0                           5.0  \n",
      "3                             2.0                           5.0  \n",
      "4                             2.0                           5.0  \n",
      "..                            ...                           ...  \n",
      "160                           NaN                           NaN  \n",
      "161                           NaN                           NaN  \n",
      "162                           NaN                           NaN  \n",
      "163                           NaN                           NaN  \n",
      "164                           NaN                           NaN  \n",
      "\n",
      "[165 rows x 24 columns]\n"
     ]
    }
   ],
   "source": [
    "for df in dfs:\n",
    "    df['calendarYear'] = df['calendarYear'].astype(int)\n",
    "    df['symbol'] = df['symbol'].astype(str)\n",
    "\n",
    "# Merging all dataframes on 'calendarYear' and 'symbol'\n",
    "merged_df = dfs[0]\n",
    "for df in dfs[1:]:\n",
    "    if 'index' in df.columns:\n",
    "        df = df.drop(columns=['index'])\n",
    "    merged_df = pd.merge(left=merged_df, right=df, on=['calendarYear', 'symbol'], how='outer')\n",
    "\n",
    "# Display the merged dataframe\n",
    "print(merged_df)"
   ]
  },
  {
   "cell_type": "code",
   "execution_count": 76,
   "id": "7ad1298a",
   "metadata": {
    "scrolled": false
   },
   "outputs": [],
   "source": [
    "merged_df = impute_missing_data(merged_df)"
   ]
  },
  {
   "cell_type": "code",
   "execution_count": 77,
   "id": "e4df6250",
   "metadata": {},
   "outputs": [
    {
     "name": "stdout",
     "output_type": "stream",
     "text": [
      "<class 'pandas.core.frame.DataFrame'>\n",
      "Int64Index: 220 entries, 88 to 175\n",
      "Data columns (total 24 columns):\n",
      " #   Column                                                   Non-Null Count  Dtype  \n",
      "---  ------                                                   --------------  -----  \n",
      " 0   symbol                                                   220 non-null    object \n",
      " 1   calendarYear                                             220 non-null    int64  \n",
      " 2   index                                                    220 non-null    float64\n",
      " 3   acquisitionsNet_to_Revenue_ratio                         220 non-null    float64\n",
      " 4   investmentsInPropertyPlantAndEquipment_to_Revenue_ratio  220 non-null    float64\n",
      " 5   commonStockIssued_to_Revenue_ratio                       220 non-null    float64\n",
      " 6   debtRepayment_to_Revenue_ratio                           220 non-null    float64\n",
      " 7   revenue_to_Revenue_ratio                                 220 non-null    float64\n",
      " 8   costOfRevenue_to_Revenue_ratio                           220 non-null    float64\n",
      " 9   grossProfit_to_Revenue_ratio                             220 non-null    float64\n",
      " 10  operatingExpenses_to_Revenue_ratio                       220 non-null    float64\n",
      " 11  ebitda_to_Revenue_ratio                                  220 non-null    float64\n",
      " 12  totalCurrentAssets_to_totalAssets_ratio                  220 non-null    float64\n",
      " 13  totalNonCurrentAssets_to_totalAssets_ratio               220 non-null    float64\n",
      " 14  totalCurrentLiabilities_to_totalLiabilities_ratio        220 non-null    float64\n",
      " 15  totalNonCurrentLiabilities_to_totalLiabilities_ratio     220 non-null    float64\n",
      " 16  debtToEquity                                             220 non-null    float64\n",
      " 17  debtToAssets                                             220 non-null    float64\n",
      " 18  marketCap                                                220 non-null    float64\n",
      " 19  daysOfInventoryOnHand                                    220 non-null    float64\n",
      " 20  workingCapital_to_revenue_Ratio                          220 non-null    float64\n",
      " 21  employee_revenue_ratio                                   220 non-null    float64\n",
      " 22  Number of Product Segments_x                             220 non-null    float64\n",
      " 23  Number of Product Segments_y                             220 non-null    float64\n",
      "dtypes: float64(22), int64(1), object(1)\n",
      "memory usage: 43.0+ KB\n"
     ]
    }
   ],
   "source": [
    "merged_df.info()"
   ]
  },
  {
   "cell_type": "code",
   "execution_count": 79,
   "id": "71db03f5",
   "metadata": {},
   "outputs": [],
   "source": [
    "merged_df = merged_df.rename(columns={\"Number of Product Segments_y\": \"Number of Geo Segments\",\n",
    "                                      \"Number of Product Segments_x\":\"Number of Product Segments\" })\n"
   ]
  },
  {
   "cell_type": "code",
   "execution_count": 80,
   "id": "0428789c",
   "metadata": {},
   "outputs": [],
   "source": [
    "merged_df[\"Number of Product Segments\"]= merged_df[\"Number of Product Segments\"].astype(\"float64\")\n",
    "merged_df[\"Number of Geo Segments\"]= merged_df[\"Number of Geo Segments\"].astype(\"float64\")\n"
   ]
  },
  {
   "cell_type": "code",
   "execution_count": null,
   "id": "72aa7038",
   "metadata": {},
   "outputs": [],
   "source": [
    "impute_missing_data(merged_df)"
   ]
  },
  {
   "cell_type": "code",
   "execution_count": 148,
   "id": "c5a94d4d",
   "metadata": {},
   "outputs": [],
   "source": [
    "df.dropna(how='any', inplace=True)"
   ]
  },
  {
   "cell_type": "code",
   "execution_count": null,
   "id": "60d8bbb9",
   "metadata": {
    "scrolled": true
   },
   "outputs": [],
   "source": [
    "df.isna().sum()"
   ]
  },
  {
   "cell_type": "code",
   "execution_count": 81,
   "id": "f10af7f8",
   "metadata": {},
   "outputs": [],
   "source": [
    "merged_df.to_excel(\"trans_lit_1980.xlsx\")"
   ]
  },
  {
   "cell_type": "code",
   "execution_count": null,
   "id": "fa7b5d8c",
   "metadata": {},
   "outputs": [],
   "source": []
  }
 ],
 "metadata": {
  "kernelspec": {
   "display_name": "Python 3 (ipykernel)",
   "language": "python",
   "name": "python3"
  },
  "language_info": {
   "codemirror_mode": {
    "name": "ipython",
    "version": 3
   },
   "file_extension": ".py",
   "mimetype": "text/x-python",
   "name": "python",
   "nbconvert_exporter": "python",
   "pygments_lexer": "ipython3",
   "version": "3.11.5"
  }
 },
 "nbformat": 4,
 "nbformat_minor": 5
}

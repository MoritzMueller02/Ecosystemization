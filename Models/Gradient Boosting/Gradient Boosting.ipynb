{
 "cells": [
  {
   "cell_type": "code",
   "execution_count": 68,
   "id": "7c0895e3",
   "metadata": {},
   "outputs": [
    {
     "data": {
      "text/html": [
       "<div>\n",
       "<style scoped>\n",
       "    .dataframe tbody tr th:only-of-type {\n",
       "        vertical-align: middle;\n",
       "    }\n",
       "\n",
       "    .dataframe tbody tr th {\n",
       "        vertical-align: top;\n",
       "    }\n",
       "\n",
       "    .dataframe thead th {\n",
       "        text-align: right;\n",
       "    }\n",
       "</style>\n",
       "<table border=\"1\" class=\"dataframe\">\n",
       "  <thead>\n",
       "    <tr style=\"text-align: right;\">\n",
       "      <th></th>\n",
       "      <th>Label</th>\n",
       "      <th>totalCurrentAssets_to_totalAssets_ratio</th>\n",
       "      <th>totalNonCurrentAssets_to_totalAssets_ratio</th>\n",
       "      <th>totalCurrentLiabilities_to_totalLiabilities_ratio</th>\n",
       "      <th>totalNonCurrentLiabilities_to_totalLiabilities_ratio</th>\n",
       "      <th>costOfRevenue_to_Revenue_ratio</th>\n",
       "      <th>grossProfit_to_Revenue_ratio</th>\n",
       "      <th>operatingExpenses_to_Revenue_ratio</th>\n",
       "      <th>ebitda_to_Revenue_ratio</th>\n",
       "      <th>acquisitionsNet_to_Revenue_ratio</th>\n",
       "      <th>investmentsInPropertyPlantAndEquipment_to_Revenue_ratio</th>\n",
       "      <th>commonStockIssued_to_Revenue_ratio</th>\n",
       "      <th>debtRepayment_to_Revenue_ratio</th>\n",
       "      <th>debtToEquity</th>\n",
       "      <th>debtToAssets</th>\n",
       "      <th>daysOfInventoryOnHand</th>\n",
       "      <th>workingCapital_to_revenue_Ratio</th>\n",
       "      <th>employee_revenue_ratio</th>\n",
       "      <th>Number of Product Segments</th>\n",
       "      <th>Number of Geo Segments</th>\n",
       "    </tr>\n",
       "  </thead>\n",
       "  <tbody>\n",
       "    <tr>\n",
       "      <th>0</th>\n",
       "      <td>2</td>\n",
       "      <td>52.543267</td>\n",
       "      <td>47.456733</td>\n",
       "      <td>65.918286</td>\n",
       "      <td>34.081714</td>\n",
       "      <td>72.963421</td>\n",
       "      <td>27.036579</td>\n",
       "      <td>19.487096</td>\n",
       "      <td>7.270342</td>\n",
       "      <td>-76.344449</td>\n",
       "      <td>-2030.050116</td>\n",
       "      <td>0.669815</td>\n",
       "      <td>-1346.597918</td>\n",
       "      <td>0.469952</td>\n",
       "      <td>0.149550</td>\n",
       "      <td>80.392441</td>\n",
       "      <td>16.931293</td>\n",
       "      <td>0.000226</td>\n",
       "      <td>3</td>\n",
       "      <td>3</td>\n",
       "    </tr>\n",
       "    <tr>\n",
       "      <th>1</th>\n",
       "      <td>2</td>\n",
       "      <td>50.142358</td>\n",
       "      <td>49.857642</td>\n",
       "      <td>62.165864</td>\n",
       "      <td>37.834136</td>\n",
       "      <td>74.850994</td>\n",
       "      <td>25.149006</td>\n",
       "      <td>19.476318</td>\n",
       "      <td>15.567115</td>\n",
       "      <td>-149.646491</td>\n",
       "      <td>-1607.798758</td>\n",
       "      <td>2.513364</td>\n",
       "      <td>-993.654078</td>\n",
       "      <td>0.680004</td>\n",
       "      <td>0.202260</td>\n",
       "      <td>92.362922</td>\n",
       "      <td>15.423757</td>\n",
       "      <td>0.000234</td>\n",
       "      <td>3</td>\n",
       "      <td>3</td>\n",
       "    </tr>\n",
       "    <tr>\n",
       "      <th>2</th>\n",
       "      <td>2</td>\n",
       "      <td>47.520648</td>\n",
       "      <td>52.479352</td>\n",
       "      <td>68.611247</td>\n",
       "      <td>31.388753</td>\n",
       "      <td>75.073354</td>\n",
       "      <td>24.926646</td>\n",
       "      <td>17.734589</td>\n",
       "      <td>13.704331</td>\n",
       "      <td>-401.766840</td>\n",
       "      <td>-294.934587</td>\n",
       "      <td>166.070145</td>\n",
       "      <td>164.719169</td>\n",
       "      <td>0.720136</td>\n",
       "      <td>0.225146</td>\n",
       "      <td>96.741438</td>\n",
       "      <td>7.261509</td>\n",
       "      <td>0.000242</td>\n",
       "      <td>3</td>\n",
       "      <td>3</td>\n",
       "    </tr>\n",
       "    <tr>\n",
       "      <th>3</th>\n",
       "      <td>2</td>\n",
       "      <td>47.422916</td>\n",
       "      <td>52.577084</td>\n",
       "      <td>72.094450</td>\n",
       "      <td>27.905550</td>\n",
       "      <td>75.286739</td>\n",
       "      <td>24.713261</td>\n",
       "      <td>17.837664</td>\n",
       "      <td>12.844175</td>\n",
       "      <td>-427.229747</td>\n",
       "      <td>-354.411168</td>\n",
       "      <td>201.877065</td>\n",
       "      <td>200.226144</td>\n",
       "      <td>0.447787</td>\n",
       "      <td>0.177048</td>\n",
       "      <td>73.346435</td>\n",
       "      <td>7.006217</td>\n",
       "      <td>0.000251</td>\n",
       "      <td>4</td>\n",
       "      <td>3</td>\n",
       "    </tr>\n",
       "    <tr>\n",
       "      <th>4</th>\n",
       "      <td>2</td>\n",
       "      <td>47.904926</td>\n",
       "      <td>52.095074</td>\n",
       "      <td>75.492625</td>\n",
       "      <td>24.507375</td>\n",
       "      <td>73.459118</td>\n",
       "      <td>26.540882</td>\n",
       "      <td>18.771963</td>\n",
       "      <td>12.410075</td>\n",
       "      <td>-790.702850</td>\n",
       "      <td>-636.935020</td>\n",
       "      <td>362.817037</td>\n",
       "      <td>359.850068</td>\n",
       "      <td>0.206887</td>\n",
       "      <td>0.096555</td>\n",
       "      <td>77.153320</td>\n",
       "      <td>10.813318</td>\n",
       "      <td>0.000259</td>\n",
       "      <td>4</td>\n",
       "      <td>3</td>\n",
       "    </tr>\n",
       "  </tbody>\n",
       "</table>\n",
       "</div>"
      ],
      "text/plain": [
       "   Label  totalCurrentAssets_to_totalAssets_ratio  \\\n",
       "0      2                                52.543267   \n",
       "1      2                                50.142358   \n",
       "2      2                                47.520648   \n",
       "3      2                                47.422916   \n",
       "4      2                                47.904926   \n",
       "\n",
       "   totalNonCurrentAssets_to_totalAssets_ratio  \\\n",
       "0                                   47.456733   \n",
       "1                                   49.857642   \n",
       "2                                   52.479352   \n",
       "3                                   52.577084   \n",
       "4                                   52.095074   \n",
       "\n",
       "   totalCurrentLiabilities_to_totalLiabilities_ratio  \\\n",
       "0                                          65.918286   \n",
       "1                                          62.165864   \n",
       "2                                          68.611247   \n",
       "3                                          72.094450   \n",
       "4                                          75.492625   \n",
       "\n",
       "   totalNonCurrentLiabilities_to_totalLiabilities_ratio  \\\n",
       "0                                          34.081714      \n",
       "1                                          37.834136      \n",
       "2                                          31.388753      \n",
       "3                                          27.905550      \n",
       "4                                          24.507375      \n",
       "\n",
       "   costOfRevenue_to_Revenue_ratio  grossProfit_to_Revenue_ratio  \\\n",
       "0                       72.963421                     27.036579   \n",
       "1                       74.850994                     25.149006   \n",
       "2                       75.073354                     24.926646   \n",
       "3                       75.286739                     24.713261   \n",
       "4                       73.459118                     26.540882   \n",
       "\n",
       "   operatingExpenses_to_Revenue_ratio  ebitda_to_Revenue_ratio  \\\n",
       "0                           19.487096                 7.270342   \n",
       "1                           19.476318                15.567115   \n",
       "2                           17.734589                13.704331   \n",
       "3                           17.837664                12.844175   \n",
       "4                           18.771963                12.410075   \n",
       "\n",
       "   acquisitionsNet_to_Revenue_ratio  \\\n",
       "0                        -76.344449   \n",
       "1                       -149.646491   \n",
       "2                       -401.766840   \n",
       "3                       -427.229747   \n",
       "4                       -790.702850   \n",
       "\n",
       "   investmentsInPropertyPlantAndEquipment_to_Revenue_ratio  \\\n",
       "0                                       -2030.050116         \n",
       "1                                       -1607.798758         \n",
       "2                                        -294.934587         \n",
       "3                                        -354.411168         \n",
       "4                                        -636.935020         \n",
       "\n",
       "   commonStockIssued_to_Revenue_ratio  debtRepayment_to_Revenue_ratio  \\\n",
       "0                            0.669815                    -1346.597918   \n",
       "1                            2.513364                     -993.654078   \n",
       "2                          166.070145                      164.719169   \n",
       "3                          201.877065                      200.226144   \n",
       "4                          362.817037                      359.850068   \n",
       "\n",
       "   debtToEquity  debtToAssets  daysOfInventoryOnHand  \\\n",
       "0      0.469952      0.149550              80.392441   \n",
       "1      0.680004      0.202260              92.362922   \n",
       "2      0.720136      0.225146              96.741438   \n",
       "3      0.447787      0.177048              73.346435   \n",
       "4      0.206887      0.096555              77.153320   \n",
       "\n",
       "   workingCapital_to_revenue_Ratio  employee_revenue_ratio  \\\n",
       "0                        16.931293                0.000226   \n",
       "1                        15.423757                0.000234   \n",
       "2                         7.261509                0.000242   \n",
       "3                         7.006217                0.000251   \n",
       "4                        10.813318                0.000259   \n",
       "\n",
       "   Number of Product Segments  Number of Geo Segments  \n",
       "0                           3                       3  \n",
       "1                           3                       3  \n",
       "2                           3                       3  \n",
       "3                           4                       3  \n",
       "4                           4                       3  "
      ]
     },
     "execution_count": 68,
     "metadata": {},
     "output_type": "execute_result"
    }
   ],
   "source": [
    "import pandas as pd\n",
    "\n",
    "df = pd.read_excel(\"finaldf_partner_imp_1k.xlsx\", index_col=False)\n",
    "df.drop(columns=[\"Column1\",\"index_x\",\"index_y\",\"revenue_to_Revenue_ratio\",\"symbol\", \"calendarYear\", \"marketCap\", \"Partner\"], axis = 1, inplace = True)\n",
    "df.head()"
   ]
  },
  {
   "cell_type": "code",
   "execution_count": 69,
   "id": "fa007252",
   "metadata": {},
   "outputs": [],
   "source": [
    "df_top_10 = df[[\"grossProfit_to_Revenue_ratio\", \"ebitda_to_Revenue_ratio\", \n",
    "                \"commonStockIssued_to_Revenue_ratio\",\"debtRepayment_to_Revenue_ratio\", \"employee_revenue_ratio\",\"acquisitionsNet_to_Revenue_ratio\", \"Label\"]]\n"
   ]
  },
  {
   "cell_type": "code",
   "execution_count": 70,
   "id": "0134e056",
   "metadata": {},
   "outputs": [],
   "source": [
    "def remove_outliers(df):\n",
    "    \n",
    "    \n",
    "    # Keep only numeric columns for outlier removal\n",
    "    df_numeric = df.select_dtypes(include=[float])\n",
    "\n",
    "    # Calculate lower and upper quantiles\n",
    "    lower_quantiles = df_numeric.quantile(0.01)\n",
    "    upper_quantiles = df_numeric.quantile(0.99)\n",
    "    means = df_numeric.mean()\n",
    "\n",
    "    # Filter out the outliers\n",
    "    for col in df_numeric.columns:\n",
    "        df_numeric = df_numeric[(df_numeric[col] > lower_quantiles[col]) &\n",
    "                                (df_numeric[col] < upper_quantiles[col]) &\n",
    "                                (df_numeric[col] <= 500) &\n",
    "                                (df_numeric[col] >= -500)]\n",
    "    \n",
    "    # Create a filtered DataFrame with the original non-numeric columns\n",
    "    df_filtered = df.loc[df_numeric.index]\n",
    "     \n",
    "    return df_filtered\n",
    "# Apply the function\n",
    "filtered_df = remove_outliers(df_top_10)"
   ]
  },
  {
   "cell_type": "code",
   "execution_count": 71,
   "id": "6a5e3b04",
   "metadata": {},
   "outputs": [],
   "source": [
    "from sklearn.model_selection import train_test_split\n",
    "from sklearn.preprocessing import StandardScaler\n",
    "from sklearn.feature_selection import SelectKBest, f_classif\n",
    "import matplotlib.pylab as plt\n",
    "import numpy as np\n",
    "\n",
    "# Separate explanatory (X) and target (y) variables\n",
    "X = filtered_df.copy()\n",
    "y = X.pop(\"Label\")\n",
    "y = y - 1\n",
    "\n",
    "# Scale the data\n",
    "scaler = StandardScaler()\n",
    "X_scaled = scaler.fit_transform(X)\n",
    "\n",
    "# Create a DataFrame with the scaled features\n",
    "X_scaled_df = pd.DataFrame(X_scaled, columns=X.columns)\n"
   ]
  },
  {
   "cell_type": "code",
   "execution_count": 72,
   "id": "29af8969",
   "metadata": {
    "scrolled": true
   },
   "outputs": [
    {
     "data": {
      "image/png": "[encoded data removed]",
      "text/plain": [
       "<Figure size 2000x1000 with 6 Axes>"
      ]
     },
     "metadata": {},
     "output_type": "display_data"
    }
   ],
   "source": [
    "plt.rcParams[\"figure.figsize\"] = (20, 10)\n",
    "X_scaled_df.select_dtypes(exclude=\"bool\").hist(bins=100)\n",
    "plt.show()"
   ]
  },
  {
   "cell_type": "code",
   "execution_count": 73,
   "id": "56256f17",
   "metadata": {},
   "outputs": [],
   "source": [
    "from imblearn.over_sampling import SMOTE\n",
    "import numpy as np \n",
    "\n",
    "oversampler = SMOTE()\n",
    "\n",
    "X_resampled, y_resampled = oversampler.fit_resample(X_scaled_df,y)"
   ]
  },
  {
   "cell_type": "code",
   "execution_count": 88,
   "id": "1acc9872",
   "metadata": {},
   "outputs": [
    {
     "name": "stdout",
     "output_type": "stream",
     "text": [
      "Fitting 5 folds for each of 864 candidates, totalling 4320 fits\n",
      "Best parameters found: {'colsample_bytree': 0.8, 'gamma': 0.2, 'learning_rate': 0.05, 'max_depth': 5, 'min_child_weight': 2, 'n_estimators': 200, 'subsample': 0.8}\n",
      "Cross-validation scores with best parameters: [0.93181818 0.87878788 0.86363636 0.83333333 0.87878788]\n",
      "Mean CV accuracy with best parameters: 0.8773\n",
      "Standard Deviation of CV accuracy with best parameters: 0.0319\n"
     ]
    },
    {
     "name": "stderr",
     "output_type": "stream",
     "text": [
      "D:\\Anaconda\\Lib\\site-packages\\xgboost\\sklearn.py:835: UserWarning:\n",
      "\n",
      "`eval_metric` in `fit` method is deprecated for better compatibility with scikit-learn, use `eval_metric` in constructor or`set_params` instead.\n",
      "\n"
     ]
    },
    {
     "name": "stdout",
     "output_type": "stream",
     "text": [
      "              precision    recall  f1-score   support\n",
      "\n",
      "           0       0.83      0.91      0.87        70\n",
      "           1       0.97      0.81      0.88        80\n",
      "           2       0.85      0.92      0.88        62\n",
      "           3       0.85      0.86      0.86        72\n",
      "\n",
      "    accuracy                           0.87       284\n",
      "   macro avg       0.88      0.88      0.87       284\n",
      "weighted avg       0.88      0.87      0.87       284\n",
      "\n"
     ]
    }
   ],
   "source": [
    "import pandas as pd\n",
    "from sklearn.model_selection import train_test_split, cross_val_score, GridSearchCV\n",
    "from sklearn.preprocessing import StandardScaler\n",
    "from sklearn.metrics import classification_report, roc_curve, auc, roc_auc_score\n",
    "from sklearn.feature_selection import SelectKBest, f_classif\n",
    "from xgboost import XGBClassifier\n",
    "import matplotlib.pylab as plt\n",
    "import numpy as np\n",
    "\n",
    "\n",
    "\n",
    "X_train, X_test, y_train, y_test = train_test_split(X_resampled, y_resampled, test_size=0.3, random_state=42)\n",
    "\n",
    "# Initialize the XGBoost model\n",
    "model = XGBClassifier(objective='multi:softprob', num_class=len(np.unique(y)))\n",
    "\n",
    "\n",
    "param_grid = {\n",
    "    'n_estimators': [50, 100, 200],\n",
    "    'max_depth': [3, 4, 5, 6],\n",
    "    'learning_rate': [0.05, 0.1],\n",
    "    'subsample': [0.8, 0.9],\n",
    "    'colsample_bytree': [0.8, 1.0],\n",
    "    'gamma': [0.1, 0.2, 0.3],\n",
    "    'min_child_weight': [1, 2, 3]\n",
    "}\n",
    "\n",
    "# Initialize GridSearchCV with the XGBoost model\n",
    "grid_search = GridSearchCV(estimator=model, param_grid=param_grid, cv=5, scoring='accuracy', n_jobs=-1, verbose=2)\n",
    "\n",
    "# Fit GridSearchCV on the training data\n",
    "grid_search.fit(X_train, y_train)\n",
    "\n",
    "# Get the best parameters from GridSearchCV\n",
    "best_params = grid_search.best_params_\n",
    "print(f\"Best parameters found: {best_params}\")\n",
    "\n",
    "# Initialize the model with the best parameters\n",
    "best_model = XGBClassifier(objective='multi:softprob', num_class=len(np.unique(y)), **best_params)\n",
    "\n",
    "# Evaluate the best model using cross-validation\n",
    "cv_scores = cross_val_score(best_model, X_train, y_train, cv=5, scoring='accuracy')\n",
    "print(f\"Cross-validation scores with best parameters: {cv_scores}\")\n",
    "print(f\"Mean CV accuracy with best parameters: {cv_scores.mean():.4f}\")\n",
    "print(f\"Standard Deviation of CV accuracy with best parameters: {cv_scores.std():.4f}\")\n",
    "\n",
    "# Fit the best model on the training data\n",
    "eval_set = [(X_train, y_train), (X_test, y_test)]\n",
    "eval_metric = \"mlogloss\"\n",
    "best_model.fit(X_train, y_train, eval_metric=eval_metric, eval_set=eval_set, verbose=False)\n",
    "y_pred = best_model.predict(X_test)\n",
    "\n",
    "# Print the classification report\n",
    "print(classification_report(y_test, y_pred))"
   ]
  },
  {
   "cell_type": "code",
   "execution_count": 89,
   "id": "2820571b",
   "metadata": {
    "scrolled": true
   },
   "outputs": [
    {
     "data": {
      "image/png": "[encoded data removed]",
      "text/plain": [
       "<Figure size 500x300 with 1 Axes>"
      ]
     },
     "metadata": {},
     "output_type": "display_data"
    }
   ],
   "source": [
    "plt.figure(figsize=(5, 3))\n",
    "plt.boxplot(cv_scores, vert = False)\n",
    "plt.xlabel(\"Feature Importance\")\n",
    "plt.ylabel(\"Feature\")\n",
    "plt.title(\"Feature Importance in Gradient Boosting\")\n",
    "plt.show()"
   ]
  },
  {
   "cell_type": "code",
   "execution_count": 90,
   "id": "d3e8c6b9",
   "metadata": {},
   "outputs": [
    {
     "data": {
      "image/png": "[encoded data removed]",
      "text/plain": [
       "<Figure size 1000x600 with 1 Axes>"
      ]
     },
     "metadata": {},
     "output_type": "display_data"
    }
   ],
   "source": [
    "results = best_model.evals_result()\n",
    "\n",
    "# Plot the learning curves\n",
    "epochs = len(results['validation_0'][eval_metric])\n",
    "x_axis = range(0, epochs)\n",
    "\n",
    "plt.figure(figsize=(10, 6))\n",
    "plt.plot(x_axis, results['validation_0'][eval_metric], label='Train')\n",
    "plt.plot(x_axis, results['validation_1'][eval_metric], label='Validation')\n",
    "plt.title('XGBoost Log Loss')\n",
    "plt.xlabel('Epochs')\n",
    "plt.ylabel('Log Loss')\n",
    "plt.legend(loc='best')\n",
    "plt.grid()\n",
    "plt.show()"
   ]
  },
  {
   "cell_type": "code",
   "execution_count": 91,
   "id": "d004b496",
   "metadata": {},
   "outputs": [
    {
     "data": {
      "image/png": "[encoded data removed]",
      "text/plain": [
       "<Figure size 1200x800 with 1 Axes>"
      ]
     },
     "metadata": {},
     "output_type": "display_data"
    }
   ],
   "source": [
    "from sklearn.inspection import permutation_importance\n",
    "\n",
    "\n",
    "result = permutation_importance(best_model, X_test, y_test, n_repeats=30, random_state=42, n_jobs=-1)\n",
    "\n",
    "# Extract the importances\n",
    "importances = result.importances\n",
    "\n",
    "# Get feature names\n",
    "feature_names = X_train.columns\n",
    "\n",
    "# Sort the features by the mean importance\n",
    "sorted_indices = np.argsort(result.importances_mean)\n",
    "sorted_importances = importances[sorted_indices]\n",
    "sorted_feature_names = feature_names[sorted_indices]\n",
    "\n",
    "# Plot permutation importances using boxplot\n",
    "plt.figure(figsize=(12, 8))\n",
    "plt.boxplot(sorted_importances.T, vert=False, labels=sorted_feature_names)\n",
    "plt.xlabel('Permutation Importance')\n",
    "plt.title('Permutation Importance of Features')\n",
    "plt.show()"
   ]
  },
  {
   "cell_type": "code",
   "execution_count": 92,
   "id": "e69b2c1f",
   "metadata": {},
   "outputs": [
    {
     "data": {
      "text/html": [
       "<div>\n",
       "<style scoped>\n",
       "    .dataframe tbody tr th:only-of-type {\n",
       "        vertical-align: middle;\n",
       "    }\n",
       "\n",
       "    .dataframe tbody tr th {\n",
       "        vertical-align: top;\n",
       "    }\n",
       "\n",
       "    .dataframe thead th {\n",
       "        text-align: right;\n",
       "    }\n",
       "</style>\n",
       "<table border=\"1\" class=\"dataframe\">\n",
       "  <thead>\n",
       "    <tr style=\"text-align: right;\">\n",
       "      <th></th>\n",
       "      <th>Unnamed: 0.1</th>\n",
       "      <th>symbol</th>\n",
       "      <th>calendarYear</th>\n",
       "      <th>totalCurrentAssets_to_totalAssets_ratio</th>\n",
       "      <th>totalNonCurrentAssets_to_totalAssets_ratio</th>\n",
       "      <th>totalCurrentLiabilities_to_totalLiabilities_ratio</th>\n",
       "      <th>totalNonCurrentLiabilities_to_totalLiabilities_ratio</th>\n",
       "      <th>costOfRevenue_to_Revenue_ratio</th>\n",
       "      <th>grossProfit_to_Revenue_ratio</th>\n",
       "      <th>operatingExpenses_to_Revenue_ratio</th>\n",
       "      <th>...</th>\n",
       "      <th>investmentsInPropertyPlantAndEquipment_to_Revenue_ratio</th>\n",
       "      <th>commonStockIssued_to_Revenue_ratio</th>\n",
       "      <th>debtRepayment_to_Revenue_ratio</th>\n",
       "      <th>debtToEquity</th>\n",
       "      <th>debtToAssets</th>\n",
       "      <th>daysOfInventoryOnHand</th>\n",
       "      <th>workingCapital_to_revenue_Ratio</th>\n",
       "      <th>employee_revenue_ratio</th>\n",
       "      <th>Number of Product Segments</th>\n",
       "      <th>Number of Geo Segments</th>\n",
       "    </tr>\n",
       "  </thead>\n",
       "  <tbody>\n",
       "    <tr>\n",
       "      <th>0</th>\n",
       "      <td>0</td>\n",
       "      <td>A</td>\n",
       "      <td>2007</td>\n",
       "      <td>48.596770</td>\n",
       "      <td>51.403230</td>\n",
       "      <td>38.495370</td>\n",
       "      <td>61.504630</td>\n",
       "      <td>45.221402</td>\n",
       "      <td>54.778598</td>\n",
       "      <td>44.003690</td>\n",
       "      <td>...</td>\n",
       "      <td>-1.935945</td>\n",
       "      <td>0.435263</td>\n",
       "      <td>-0.227376</td>\n",
       "      <td>0.687693</td>\n",
       "      <td>0.294414</td>\n",
       "      <td>95.754794</td>\n",
       "      <td>37.047970</td>\n",
       "      <td>0.000358</td>\n",
       "      <td>4.259274</td>\n",
       "      <td>1.604396</td>\n",
       "    </tr>\n",
       "    <tr>\n",
       "      <th>1</th>\n",
       "      <td>1</td>\n",
       "      <td>A</td>\n",
       "      <td>2008</td>\n",
       "      <td>43.135673</td>\n",
       "      <td>56.864327</td>\n",
       "      <td>27.162772</td>\n",
       "      <td>72.837228</td>\n",
       "      <td>44.648424</td>\n",
       "      <td>55.351576</td>\n",
       "      <td>41.582958</td>\n",
       "      <td>...</td>\n",
       "      <td>-1.935945</td>\n",
       "      <td>0.435263</td>\n",
       "      <td>-0.227376</td>\n",
       "      <td>0.908558</td>\n",
       "      <td>0.312626</td>\n",
       "      <td>91.462374</td>\n",
       "      <td>32.611708</td>\n",
       "      <td>0.000339</td>\n",
       "      <td>4.163378</td>\n",
       "      <td>1.697802</td>\n",
       "    </tr>\n",
       "    <tr>\n",
       "      <th>2</th>\n",
       "      <td>2</td>\n",
       "      <td>A</td>\n",
       "      <td>2009</td>\n",
       "      <td>52.036259</td>\n",
       "      <td>47.963741</td>\n",
       "      <td>21.993733</td>\n",
       "      <td>78.006267</td>\n",
       "      <td>48.850703</td>\n",
       "      <td>51.149297</td>\n",
       "      <td>50.100424</td>\n",
       "      <td>...</td>\n",
       "      <td>-1.935945</td>\n",
       "      <td>0.435263</td>\n",
       "      <td>-0.227376</td>\n",
       "      <td>1.236632</td>\n",
       "      <td>0.407120</td>\n",
       "      <td>92.042028</td>\n",
       "      <td>63.334077</td>\n",
       "      <td>0.000375</td>\n",
       "      <td>4.067482</td>\n",
       "      <td>1.791209</td>\n",
       "    </tr>\n",
       "    <tr>\n",
       "      <th>3</th>\n",
       "      <td>3</td>\n",
       "      <td>A</td>\n",
       "      <td>2010</td>\n",
       "      <td>63.967234</td>\n",
       "      <td>36.032766</td>\n",
       "      <td>47.724458</td>\n",
       "      <td>52.275542</td>\n",
       "      <td>46.179280</td>\n",
       "      <td>53.820720</td>\n",
       "      <td>43.423953</td>\n",
       "      <td>...</td>\n",
       "      <td>-1.935945</td>\n",
       "      <td>0.435263</td>\n",
       "      <td>-0.227376</td>\n",
       "      <td>1.162154</td>\n",
       "      <td>0.382725</td>\n",
       "      <td>103.953858</td>\n",
       "      <td>56.686260</td>\n",
       "      <td>0.000340</td>\n",
       "      <td>4.000000</td>\n",
       "      <td>1.884615</td>\n",
       "    </tr>\n",
       "    <tr>\n",
       "      <th>4</th>\n",
       "      <td>4</td>\n",
       "      <td>A</td>\n",
       "      <td>2011</td>\n",
       "      <td>61.576681</td>\n",
       "      <td>38.423319</td>\n",
       "      <td>38.747100</td>\n",
       "      <td>61.252900</td>\n",
       "      <td>46.651550</td>\n",
       "      <td>53.348450</td>\n",
       "      <td>37.157974</td>\n",
       "      <td>...</td>\n",
       "      <td>-1.935945</td>\n",
       "      <td>0.435263</td>\n",
       "      <td>-0.227376</td>\n",
       "      <td>0.507196</td>\n",
       "      <td>0.241250</td>\n",
       "      <td>106.211925</td>\n",
       "      <td>56.538171</td>\n",
       "      <td>0.000283</td>\n",
       "      <td>3.875691</td>\n",
       "      <td>4.000000</td>\n",
       "    </tr>\n",
       "    <tr>\n",
       "      <th>...</th>\n",
       "      <td>...</td>\n",
       "      <td>...</td>\n",
       "      <td>...</td>\n",
       "      <td>...</td>\n",
       "      <td>...</td>\n",
       "      <td>...</td>\n",
       "      <td>...</td>\n",
       "      <td>...</td>\n",
       "      <td>...</td>\n",
       "      <td>...</td>\n",
       "      <td>...</td>\n",
       "      <td>...</td>\n",
       "      <td>...</td>\n",
       "      <td>...</td>\n",
       "      <td>...</td>\n",
       "      <td>...</td>\n",
       "      <td>...</td>\n",
       "      <td>...</td>\n",
       "      <td>...</td>\n",
       "      <td>...</td>\n",
       "      <td>...</td>\n",
       "    </tr>\n",
       "    <tr>\n",
       "      <th>21755</th>\n",
       "      <td>22333</td>\n",
       "      <td>ZTS</td>\n",
       "      <td>2019</td>\n",
       "      <td>41.126029</td>\n",
       "      <td>58.873971</td>\n",
       "      <td>20.436800</td>\n",
       "      <td>79.563200</td>\n",
       "      <td>31.821086</td>\n",
       "      <td>68.178914</td>\n",
       "      <td>35.942492</td>\n",
       "      <td>...</td>\n",
       "      <td>-4.919260</td>\n",
       "      <td>0.074858</td>\n",
       "      <td>-0.096246</td>\n",
       "      <td>2.441285</td>\n",
       "      <td>0.572629</td>\n",
       "      <td>258.358434</td>\n",
       "      <td>42.392542</td>\n",
       "      <td>0.000169</td>\n",
       "      <td>5.000000</td>\n",
       "      <td>6.000000</td>\n",
       "    </tr>\n",
       "    <tr>\n",
       "      <th>21756</th>\n",
       "      <td>22334</td>\n",
       "      <td>ZTS</td>\n",
       "      <td>2020</td>\n",
       "      <td>48.578147</td>\n",
       "      <td>51.421853</td>\n",
       "      <td>22.061814</td>\n",
       "      <td>77.938186</td>\n",
       "      <td>30.816479</td>\n",
       "      <td>69.183521</td>\n",
       "      <td>35.191011</td>\n",
       "      <td>...</td>\n",
       "      <td>-5.310668</td>\n",
       "      <td>14.583822</td>\n",
       "      <td>-5.861665</td>\n",
       "      <td>1.953303</td>\n",
       "      <td>0.540966</td>\n",
       "      <td>288.877005</td>\n",
       "      <td>60.060588</td>\n",
       "      <td>0.000169</td>\n",
       "      <td>5.000000</td>\n",
       "      <td>6.000000</td>\n",
       "    </tr>\n",
       "    <tr>\n",
       "      <th>21757</th>\n",
       "      <td>22335</td>\n",
       "      <td>ZTS</td>\n",
       "      <td>2021</td>\n",
       "      <td>49.856115</td>\n",
       "      <td>50.143885</td>\n",
       "      <td>19.206926</td>\n",
       "      <td>80.793074</td>\n",
       "      <td>29.616770</td>\n",
       "      <td>70.383230</td>\n",
       "      <td>34.336420</td>\n",
       "      <td>...</td>\n",
       "      <td>-4.909428</td>\n",
       "      <td>1.846602</td>\n",
       "      <td>-6.216550</td>\n",
       "      <td>1.493286</td>\n",
       "      <td>0.488058</td>\n",
       "      <td>304.774208</td>\n",
       "      <td>180.168480</td>\n",
       "      <td>0.000156</td>\n",
       "      <td>5.000000</td>\n",
       "      <td>6.000000</td>\n",
       "    </tr>\n",
       "    <tr>\n",
       "      <th>21758</th>\n",
       "      <td>22336</td>\n",
       "      <td>ZTS</td>\n",
       "      <td>2022</td>\n",
       "      <td>50.291457</td>\n",
       "      <td>49.708543</td>\n",
       "      <td>30.098841</td>\n",
       "      <td>69.901159</td>\n",
       "      <td>30.371287</td>\n",
       "      <td>69.628713</td>\n",
       "      <td>33.391089</td>\n",
       "      <td>...</td>\n",
       "      <td>-5.033499</td>\n",
       "      <td>-0.991638</td>\n",
       "      <td>-11.510050</td>\n",
       "      <td>1.836549</td>\n",
       "      <td>0.542044</td>\n",
       "      <td>348.787694</td>\n",
       "      <td>135.509057</td>\n",
       "      <td>0.000171</td>\n",
       "      <td>5.000000</td>\n",
       "      <td>6.000000</td>\n",
       "    </tr>\n",
       "    <tr>\n",
       "      <th>21759</th>\n",
       "      <td>22337</td>\n",
       "      <td>ZTS</td>\n",
       "      <td>2023</td>\n",
       "      <td>44.400112</td>\n",
       "      <td>55.599888</td>\n",
       "      <td>20.322754</td>\n",
       "      <td>79.677246</td>\n",
       "      <td>31.718165</td>\n",
       "      <td>68.281835</td>\n",
       "      <td>32.361891</td>\n",
       "      <td>...</td>\n",
       "      <td>-5.107452</td>\n",
       "      <td>-3.829878</td>\n",
       "      <td>-9.412503</td>\n",
       "      <td>1.323794</td>\n",
       "      <td>0.463041</td>\n",
       "      <td>345.335793</td>\n",
       "      <td>117.118065</td>\n",
       "      <td>0.000165</td>\n",
       "      <td>5.000000</td>\n",
       "      <td>6.000000</td>\n",
       "    </tr>\n",
       "  </tbody>\n",
       "</table>\n",
       "<p>21760 rows × 22 columns</p>\n",
       "</div>"
      ],
      "text/plain": [
       "       Unnamed: 0.1 symbol  calendarYear  \\\n",
       "0                 0      A          2007   \n",
       "1                 1      A          2008   \n",
       "2                 2      A          2009   \n",
       "3                 3      A          2010   \n",
       "4                 4      A          2011   \n",
       "...             ...    ...           ...   \n",
       "21755         22333    ZTS          2019   \n",
       "21756         22334    ZTS          2020   \n",
       "21757         22335    ZTS          2021   \n",
       "21758         22336    ZTS          2022   \n",
       "21759         22337    ZTS          2023   \n",
       "\n",
       "       totalCurrentAssets_to_totalAssets_ratio  \\\n",
       "0                                    48.596770   \n",
       "1                                    43.135673   \n",
       "2                                    52.036259   \n",
       "3                                    63.967234   \n",
       "4                                    61.576681   \n",
       "...                                        ...   \n",
       "21755                                41.126029   \n",
       "21756                                48.578147   \n",
       "21757                                49.856115   \n",
       "21758                                50.291457   \n",
       "21759                                44.400112   \n",
       "\n",
       "       totalNonCurrentAssets_to_totalAssets_ratio  \\\n",
       "0                                       51.403230   \n",
       "1                                       56.864327   \n",
       "2                                       47.963741   \n",
       "3                                       36.032766   \n",
       "4                                       38.423319   \n",
       "...                                           ...   \n",
       "21755                                   58.873971   \n",
       "21756                                   51.421853   \n",
       "21757                                   50.143885   \n",
       "21758                                   49.708543   \n",
       "21759                                   55.599888   \n",
       "\n",
       "       totalCurrentLiabilities_to_totalLiabilities_ratio  \\\n",
       "0                                              38.495370   \n",
       "1                                              27.162772   \n",
       "2                                              21.993733   \n",
       "3                                              47.724458   \n",
       "4                                              38.747100   \n",
       "...                                                  ...   \n",
       "21755                                          20.436800   \n",
       "21756                                          22.061814   \n",
       "21757                                          19.206926   \n",
       "21758                                          30.098841   \n",
       "21759                                          20.322754   \n",
       "\n",
       "       totalNonCurrentLiabilities_to_totalLiabilities_ratio  \\\n",
       "0                                              61.504630      \n",
       "1                                              72.837228      \n",
       "2                                              78.006267      \n",
       "3                                              52.275542      \n",
       "4                                              61.252900      \n",
       "...                                                  ...      \n",
       "21755                                          79.563200      \n",
       "21756                                          77.938186      \n",
       "21757                                          80.793074      \n",
       "21758                                          69.901159      \n",
       "21759                                          79.677246      \n",
       "\n",
       "       costOfRevenue_to_Revenue_ratio  grossProfit_to_Revenue_ratio  \\\n",
       "0                           45.221402                     54.778598   \n",
       "1                           44.648424                     55.351576   \n",
       "2                           48.850703                     51.149297   \n",
       "3                           46.179280                     53.820720   \n",
       "4                           46.651550                     53.348450   \n",
       "...                               ...                           ...   \n",
       "21755                       31.821086                     68.178914   \n",
       "21756                       30.816479                     69.183521   \n",
       "21757                       29.616770                     70.383230   \n",
       "21758                       30.371287                     69.628713   \n",
       "21759                       31.718165                     68.281835   \n",
       "\n",
       "       operatingExpenses_to_Revenue_ratio  ...  \\\n",
       "0                               44.003690  ...   \n",
       "1                               41.582958  ...   \n",
       "2                               50.100424  ...   \n",
       "3                               43.423953  ...   \n",
       "4                               37.157974  ...   \n",
       "...                                   ...  ...   \n",
       "21755                           35.942492  ...   \n",
       "21756                           35.191011  ...   \n",
       "21757                           34.336420  ...   \n",
       "21758                           33.391089  ...   \n",
       "21759                           32.361891  ...   \n",
       "\n",
       "       investmentsInPropertyPlantAndEquipment_to_Revenue_ratio  \\\n",
       "0                                              -1.935945         \n",
       "1                                              -1.935945         \n",
       "2                                              -1.935945         \n",
       "3                                              -1.935945         \n",
       "4                                              -1.935945         \n",
       "...                                                  ...         \n",
       "21755                                          -4.919260         \n",
       "21756                                          -5.310668         \n",
       "21757                                          -4.909428         \n",
       "21758                                          -5.033499         \n",
       "21759                                          -5.107452         \n",
       "\n",
       "       commonStockIssued_to_Revenue_ratio  debtRepayment_to_Revenue_ratio  \\\n",
       "0                                0.435263                       -0.227376   \n",
       "1                                0.435263                       -0.227376   \n",
       "2                                0.435263                       -0.227376   \n",
       "3                                0.435263                       -0.227376   \n",
       "4                                0.435263                       -0.227376   \n",
       "...                                   ...                             ...   \n",
       "21755                            0.074858                       -0.096246   \n",
       "21756                           14.583822                       -5.861665   \n",
       "21757                            1.846602                       -6.216550   \n",
       "21758                           -0.991638                      -11.510050   \n",
       "21759                           -3.829878                       -9.412503   \n",
       "\n",
       "       debtToEquity  debtToAssets  daysOfInventoryOnHand  \\\n",
       "0          0.687693      0.294414              95.754794   \n",
       "1          0.908558      0.312626              91.462374   \n",
       "2          1.236632      0.407120              92.042028   \n",
       "3          1.162154      0.382725             103.953858   \n",
       "4          0.507196      0.241250             106.211925   \n",
       "...             ...           ...                    ...   \n",
       "21755      2.441285      0.572629             258.358434   \n",
       "21756      1.953303      0.540966             288.877005   \n",
       "21757      1.493286      0.488058             304.774208   \n",
       "21758      1.836549      0.542044             348.787694   \n",
       "21759      1.323794      0.463041             345.335793   \n",
       "\n",
       "       workingCapital_to_revenue_Ratio  employee_revenue_ratio  \\\n",
       "0                            37.047970                0.000358   \n",
       "1                            32.611708                0.000339   \n",
       "2                            63.334077                0.000375   \n",
       "3                            56.686260                0.000340   \n",
       "4                            56.538171                0.000283   \n",
       "...                                ...                     ...   \n",
       "21755                        42.392542                0.000169   \n",
       "21756                        60.060588                0.000169   \n",
       "21757                       180.168480                0.000156   \n",
       "21758                       135.509057                0.000171   \n",
       "21759                       117.118065                0.000165   \n",
       "\n",
       "       Number of Product Segments  Number of Geo Segments  \n",
       "0                        4.259274                1.604396  \n",
       "1                        4.163378                1.697802  \n",
       "2                        4.067482                1.791209  \n",
       "3                        4.000000                1.884615  \n",
       "4                        3.875691                4.000000  \n",
       "...                           ...                     ...  \n",
       "21755                    5.000000                6.000000  \n",
       "21756                    5.000000                6.000000  \n",
       "21757                    5.000000                6.000000  \n",
       "21758                    5.000000                6.000000  \n",
       "21759                    5.000000                6.000000  \n",
       "\n",
       "[21760 rows x 22 columns]"
      ]
     },
     "execution_count": 92,
     "metadata": {},
     "output_type": "execute_result"
    }
   ],
   "source": [
    "import pandas as pd\n",
    "\n",
    "df_full = pd.read_excel(\"S&P1500.xlsx\")\n",
    "df_full.drop(columns=[\"Unnamed: 0\",\"index_x\", \"index_y\", \"revenue_to_Revenue_ratio\", \"marketCap\"], axis = 1, inplace = True)\n",
    "df_full"
   ]
  },
  {
   "cell_type": "code",
   "execution_count": 93,
   "id": "7417814b",
   "metadata": {},
   "outputs": [
    {
     "data": {
      "text/plain": [
       "False"
      ]
     },
     "execution_count": 93,
     "metadata": {},
     "output_type": "execute_result"
    }
   ],
   "source": [
    "df_full.dropna(how='any', inplace=True)\n",
    "df_full.isnull().values.any()"
   ]
  },
  {
   "cell_type": "code",
   "execution_count": 94,
   "id": "efc9d9a4",
   "metadata": {},
   "outputs": [],
   "source": [
    "df_full_top10 = df_full[[\"symbol\",\"calendarYear\",\"grossProfit_to_Revenue_ratio\", \"ebitda_to_Revenue_ratio\", \n",
    "                \"commonStockIssued_to_Revenue_ratio\",\"debtRepayment_to_Revenue_ratio\",\n",
    "                 \"employee_revenue_ratio\",\"acquisitionsNet_to_Revenue_ratio\"]]"
   ]
  },
  {
   "cell_type": "code",
   "execution_count": 95,
   "id": "7eee0955",
   "metadata": {},
   "outputs": [],
   "source": [
    "def remove_outliers(df):\n",
    "    # Separate the symbol column\n",
    "    symbols = df['symbol']\n",
    "    calendarYear = df['calendarYear']\n",
    "    \n",
    "    # Keep only numeric columns for outlier removal\n",
    "    df_numeric = df.select_dtypes(include=[float])\n",
    "\n",
    "    # Calculate lower and upper quantiles\n",
    "    lower_quantiles = df_numeric.quantile(0.01)\n",
    "    upper_quantiles = df_numeric.quantile(0.99)\n",
    "\n",
    "    # Filter out the outliers\n",
    "    for col in df_numeric.columns:\n",
    "        df_numeric = df_numeric[(df_numeric[col] > lower_quantiles[col]) &\n",
    "                                (df_numeric[col] < upper_quantiles[col]) &\n",
    "                                (df_numeric[col] <= 500) &\n",
    "                                (df_numeric[col] >= -500)]\n",
    "    \n",
    "    # Create a filtered DataFrame with the original non-numeric columns\n",
    "    df_filtered = df.loc[df_numeric.index]\n",
    "    \n",
    "    return df_filtered\n",
    "# Apply the function\n",
    "filtered_df_full = remove_outliers(df_full_top10)\n"
   ]
  },
  {
   "cell_type": "code",
   "execution_count": 96,
   "id": "d41c857a",
   "metadata": {},
   "outputs": [],
   "source": [
    "from sklearn.model_selection import train_test_split\n",
    "from sklearn.preprocessing import StandardScaler\n",
    "from sklearn.feature_selection import SelectKBest, f_classif\n",
    "import matplotlib.pylab as plt\n",
    "import numpy as np\n",
    "\n",
    "\n",
    "y_full = filtered_df_full[[\"symbol\", \"calendarYear\"]]\n",
    "X_full = filtered_df_full.drop(columns=[\"symbol\", \"calendarYear\"])\n",
    "\n",
    "# scaler = StandardScaler()\n",
    "X_scaled = scaler.fit_transform(X_full)\n",
    "\n",
    "X_scaled_full = pd.DataFrame(X_scaled, columns=X_full.columns)"
   ]
  },
  {
   "cell_type": "code",
   "execution_count": 97,
   "id": "2180fd2c",
   "metadata": {},
   "outputs": [],
   "source": [
    "import pandas as pd\n",
    "\n",
    "predicted_labels =  best_model.predict(X_scaled_full)\n",
    "predicted_labels_df = pd.DataFrame(predicted_labels, columns=['Predicted Labels'])"
   ]
  },
  {
   "cell_type": "code",
   "execution_count": 98,
   "id": "627c0c39",
   "metadata": {},
   "outputs": [
    {
     "data": {
      "text/plain": [
       "0    5979\n",
       "1    5950\n",
       "3    3311\n",
       "2    2377\n",
       "Name: Predicted Labels, dtype: int64"
      ]
     },
     "execution_count": 98,
     "metadata": {},
     "output_type": "execute_result"
    }
   ],
   "source": [
    "y_full = y_full.reset_index()\n",
    "y_full.drop(columns=[\"index\"], axis = 1, inplace = True)\n",
    "predicted_labels = pd.DataFrame(predicted_labels)\n",
    "final_df = pd.concat([y_full, X_scaled_full, predicted_labels], axis=1)\n",
    "final_df = final_df.rename(columns={0: \"Predicted Labels\"})\n",
    "final_df[\"Predicted Labels\"].value_counts()"
   ]
  },
  {
   "cell_type": "code",
   "execution_count": 99,
   "id": "d4af0c20",
   "metadata": {},
   "outputs": [],
   "source": [
    "transition_companies = final_df.groupby('symbol').filter(\n",
    "    lambda x: (1 in x['Predicted Labels'].values) and (4 in x['Predicted Labels'].values)\n",
    ")\n",
    "\n",
    "transition_companies.symbol.unique()\n",
    "transition_symbols = transition_companies['symbol'].unique()"
   ]
  },
  {
   "cell_type": "code",
   "execution_count": 106,
   "id": "58e3483e",
   "metadata": {},
   "outputs": [
    {
     "data": {
      "application/vnd.plotly.v1+json": {
       "config": {
        "plotlyServerURL": "https://plot.ly"
       },
       "data": [],
       "layout": {
        "template": {
         "data": {
          "bar": [
           {
            "error_x": {
             "color": "#2a3f5f"
            },
            "error_y": {
             "color": "#2a3f5f"
            },
            "marker": {
             "line": {
              "color": "#E5ECF6",
              "width": 0.5
             },
             "pattern": {
              "fillmode": "overlay",
              "size": 10,
              "solidity": 0.2
             }
            },
            "type": "bar"
           }
          ],
          "barpolar": [
           {
            "marker": {
             "line": {
              "color": "#E5ECF6",
              "width": 0.5
             },
             "pattern": {
              "fillmode": "overlay",
              "size": 10,
              "solidity": 0.2
             }
            },
            "type": "barpolar"
           }
          ],
          "carpet": [
           {
            "aaxis": {
             "endlinecolor": "#2a3f5f",
             "gridcolor": "white",
             "linecolor": "white",
             "minorgridcolor": "white",
             "startlinecolor": "#2a3f5f"
            },
            "baxis": {
             "endlinecolor": "#2a3f5f",
             "gridcolor": "white",
             "linecolor": "white",
             "minorgridcolor": "white",
             "startlinecolor": "#2a3f5f"
            },
            "type": "carpet"
           }
          ],
          "choropleth": [
           {
            "colorbar": {
             "outlinewidth": 0,
             "ticks": ""
            },
            "type": "choropleth"
           }
          ],
          "contour": [
           {
            "colorbar": {
             "outlinewidth": 0,
             "ticks": ""
            },
            "colorscale": [
             [
              0,
              "#0d0887"
             ],
             [
              0.1111111111111111,
              "#46039f"
             ],
             [
              0.2222222222222222,
              "#7201a8"
             ],
             [
              0.3333333333333333,
              "#9c179e"
             ],
             [
              0.4444444444444444,
              "#bd3786"
             ],
             [
              0.5555555555555556,
              "#d8576b"
             ],
             [
              0.6666666666666666,
              "#ed7953"
             ],
             [
              0.7777777777777778,
              "#fb9f3a"
             ],
             [
              0.8888888888888888,
              "#fdca26"
             ],
             [
              1,
              "#f0f921"
             ]
            ],
            "type": "contour"
           }
          ],
          "contourcarpet": [
           {
            "colorbar": {
             "outlinewidth": 0,
             "ticks": ""
            },
            "type": "contourcarpet"
           }
          ],
          "heatmap": [
           {
            "colorbar": {
             "outlinewidth": 0,
             "ticks": ""
            },
            "colorscale": [
             [
              0,
              "#0d0887"
             ],
             [
              0.1111111111111111,
              "#46039f"
             ],
             [
              0.2222222222222222,
              "#7201a8"
             ],
             [
              0.3333333333333333,
              "#9c179e"
             ],
             [
              0.4444444444444444,
              "#bd3786"
             ],
             [
              0.5555555555555556,
              "#d8576b"
             ],
             [
              0.6666666666666666,
              "#ed7953"
             ],
             [
              0.7777777777777778,
              "#fb9f3a"
             ],
             [
              0.8888888888888888,
              "#fdca26"
             ],
             [
              1,
              "#f0f921"
             ]
            ],
            "type": "heatmap"
           }
          ],
          "heatmapgl": [
           {
            "colorbar": {
             "outlinewidth": 0,
             "ticks": ""
            },
            "colorscale": [
             [
              0,
              "#0d0887"
             ],
             [
              0.1111111111111111,
              "#46039f"
             ],
             [
              0.2222222222222222,
              "#7201a8"
             ],
             [
              0.3333333333333333,
              "#9c179e"
             ],
             [
              0.4444444444444444,
              "#bd3786"
             ],
             [
              0.5555555555555556,
              "#d8576b"
             ],
             [
              0.6666666666666666,
              "#ed7953"
             ],
             [
              0.7777777777777778,
              "#fb9f3a"
             ],
             [
              0.8888888888888888,
              "#fdca26"
             ],
             [
              1,
              "#f0f921"
             ]
            ],
            "type": "heatmapgl"
           }
          ],
          "histogram": [
           {
            "marker": {
             "pattern": {
              "fillmode": "overlay",
              "size": 10,
              "solidity": 0.2
             }
            },
            "type": "histogram"
           }
          ],
          "histogram2d": [
           {
            "colorbar": {
             "outlinewidth": 0,
             "ticks": ""
            },
            "colorscale": [
             [
              0,
              "#0d0887"
             ],
             [
              0.1111111111111111,
              "#46039f"
             ],
             [
              0.2222222222222222,
              "#7201a8"
             ],
             [
              0.3333333333333333,
              "#9c179e"
             ],
             [
              0.4444444444444444,
              "#bd3786"
             ],
             [
              0.5555555555555556,
              "#d8576b"
             ],
             [
              0.6666666666666666,
              "#ed7953"
             ],
             [
              0.7777777777777778,
              "#fb9f3a"
             ],
             [
              0.8888888888888888,
              "#fdca26"
             ],
             [
              1,
              "#f0f921"
             ]
            ],
            "type": "histogram2d"
           }
          ],
          "histogram2dcontour": [
           {
            "colorbar": {
             "outlinewidth": 0,
             "ticks": ""
            },
            "colorscale": [
             [
              0,
              "#0d0887"
             ],
             [
              0.1111111111111111,
              "#46039f"
             ],
             [
              0.2222222222222222,
              "#7201a8"
             ],
             [
              0.3333333333333333,
              "#9c179e"
             ],
             [
              0.4444444444444444,
              "#bd3786"
             ],
             [
              0.5555555555555556,
              "#d8576b"
             ],
             [
              0.6666666666666666,
              "#ed7953"
             ],
             [
              0.7777777777777778,
              "#fb9f3a"
             ],
             [
              0.8888888888888888,
              "#fdca26"
             ],
             [
              1,
              "#f0f921"
             ]
            ],
            "type": "histogram2dcontour"
           }
          ],
          "mesh3d": [
           {
            "colorbar": {
             "outlinewidth": 0,
             "ticks": ""
            },
            "type": "mesh3d"
           }
          ],
          "parcoords": [
           {
            "line": {
             "colorbar": {
              "outlinewidth": 0,
              "ticks": ""
             }
            },
            "type": "parcoords"
           }
          ],
          "pie": [
           {
            "automargin": true,
            "type": "pie"
           }
          ],
          "scatter": [
           {
            "fillpattern": {
             "fillmode": "overlay",
             "size": 10,
             "solidity": 0.2
            },
            "type": "scatter"
           }
          ],
          "scatter3d": [
           {
            "line": {
             "colorbar": {
              "outlinewidth": 0,
              "ticks": ""
             }
            },
            "marker": {
             "colorbar": {
              "outlinewidth": 0,
              "ticks": ""
             }
            },
            "type": "scatter3d"
           }
          ],
          "scattercarpet": [
           {
            "marker": {
             "colorbar": {
              "outlinewidth": 0,
              "ticks": ""
             }
            },
            "type": "scattercarpet"
           }
          ],
          "scattergeo": [
           {
            "marker": {
             "colorbar": {
              "outlinewidth": 0,
              "ticks": ""
             }
            },
            "type": "scattergeo"
           }
          ],
          "scattergl": [
           {
            "marker": {
             "colorbar": {
              "outlinewidth": 0,
              "ticks": ""
             }
            },
            "type": "scattergl"
           }
          ],
          "scattermapbox": [
           {
            "marker": {
             "colorbar": {
              "outlinewidth": 0,
              "ticks": ""
             }
            },
            "type": "scattermapbox"
           }
          ],
          "scatterpolar": [
           {
            "marker": {
             "colorbar": {
              "outlinewidth": 0,
              "ticks": ""
             }
            },
            "type": "scatterpolar"
           }
          ],
          "scatterpolargl": [
           {
            "marker": {
             "colorbar": {
              "outlinewidth": 0,
              "ticks": ""
             }
            },
            "type": "scatterpolargl"
           }
          ],
          "scatterternary": [
           {
            "marker": {
             "colorbar": {
              "outlinewidth": 0,
              "ticks": ""
             }
            },
            "type": "scatterternary"
           }
          ],
          "surface": [
           {
            "colorbar": {
             "outlinewidth": 0,
             "ticks": ""
            },
            "colorscale": [
             [
              0,
              "#0d0887"
             ],
             [
              0.1111111111111111,
              "#46039f"
             ],
             [
              0.2222222222222222,
              "#7201a8"
             ],
             [
              0.3333333333333333,
              "#9c179e"
             ],
             [
              0.4444444444444444,
              "#bd3786"
             ],
             [
              0.5555555555555556,
              "#d8576b"
             ],
             [
              0.6666666666666666,
              "#ed7953"
             ],
             [
              0.7777777777777778,
              "#fb9f3a"
             ],
             [
              0.8888888888888888,
              "#fdca26"
             ],
             [
              1,
              "#f0f921"
             ]
            ],
            "type": "surface"
           }
          ],
          "table": [
           {
            "cells": {
             "fill": {
              "color": "#EBF0F8"
             },
             "line": {
              "color": "white"
             }
            },
            "header": {
             "fill": {
              "color": "#C8D4E3"
             },
             "line": {
              "color": "white"
             }
            },
            "type": "table"
           }
          ]
         },
         "layout": {
          "annotationdefaults": {
           "arrowcolor": "#2a3f5f",
           "arrowhead": 0,
           "arrowwidth": 1
          },
          "autotypenumbers": "strict",
          "coloraxis": {
           "colorbar": {
            "outlinewidth": 0,
            "ticks": ""
           }
          },
          "colorscale": {
           "diverging": [
            [
             0,
             "#8e0152"
            ],
            [
             0.1,
             "#c51b7d"
            ],
            [
             0.2,
             "#de77ae"
            ],
            [
             0.3,
             "#f1b6da"
            ],
            [
             0.4,
             "#fde0ef"
            ],
            [
             0.5,
             "#f7f7f7"
            ],
            [
             0.6,
             "#e6f5d0"
            ],
            [
             0.7,
             "#b8e186"
            ],
            [
             0.8,
             "#7fbc41"
            ],
            [
             0.9,
             "#4d9221"
            ],
            [
             1,
             "#276419"
            ]
           ],
           "sequential": [
            [
             0,
             "#0d0887"
            ],
            [
             0.1111111111111111,
             "#46039f"
            ],
            [
             0.2222222222222222,
             "#7201a8"
            ],
            [
             0.3333333333333333,
             "#9c179e"
            ],
            [
             0.4444444444444444,
             "#bd3786"
            ],
            [
             0.5555555555555556,
             "#d8576b"
            ],
            [
             0.6666666666666666,
             "#ed7953"
            ],
            [
             0.7777777777777778,
             "#fb9f3a"
            ],
            [
             0.8888888888888888,
             "#fdca26"
            ],
            [
             1,
             "#f0f921"
            ]
           ],
           "sequentialminus": [
            [
             0,
             "#0d0887"
            ],
            [
             0.1111111111111111,
             "#46039f"
            ],
            [
             0.2222222222222222,
             "#7201a8"
            ],
            [
             0.3333333333333333,
             "#9c179e"
            ],
            [
             0.4444444444444444,
             "#bd3786"
            ],
            [
             0.5555555555555556,
             "#d8576b"
            ],
            [
             0.6666666666666666,
             "#ed7953"
            ],
            [
             0.7777777777777778,
             "#fb9f3a"
            ],
            [
             0.8888888888888888,
             "#fdca26"
            ],
            [
             1,
             "#f0f921"
            ]
           ]
          },
          "colorway": [
           "#636efa",
           "#EF553B",
           "#00cc96",
           "#ab63fa",
           "#FFA15A",
           "#19d3f3",
           "#FF6692",
           "#B6E880",
           "#FF97FF",
           "#FECB52"
          ],
          "font": {
           "color": "#2a3f5f"
          },
          "geo": {
           "bgcolor": "white",
           "lakecolor": "white",
           "landcolor": "#E5ECF6",
           "showlakes": true,
           "showland": true,
           "subunitcolor": "white"
          },
          "hoverlabel": {
           "align": "left"
          },
          "hovermode": "closest",
          "mapbox": {
           "style": "light"
          },
          "paper_bgcolor": "white",
          "plot_bgcolor": "#E5ECF6",
          "polar": {
           "angularaxis": {
            "gridcolor": "white",
            "linecolor": "white",
            "ticks": ""
           },
           "bgcolor": "#E5ECF6",
           "radialaxis": {
            "gridcolor": "white",
            "linecolor": "white",
            "ticks": ""
           }
          },
          "scene": {
           "xaxis": {
            "backgroundcolor": "#E5ECF6",
            "gridcolor": "white",
            "gridwidth": 2,
            "linecolor": "white",
            "showbackground": true,
            "ticks": "",
            "zerolinecolor": "white"
           },
           "yaxis": {
            "backgroundcolor": "#E5ECF6",
            "gridcolor": "white",
            "gridwidth": 2,
            "linecolor": "white",
            "showbackground": true,
            "ticks": "",
            "zerolinecolor": "white"
           },
           "zaxis": {
            "backgroundcolor": "#E5ECF6",
            "gridcolor": "white",
            "gridwidth": 2,
            "linecolor": "white",
            "showbackground": true,
            "ticks": "",
            "zerolinecolor": "white"
           }
          },
          "shapedefaults": {
           "line": {
            "color": "#2a3f5f"
           }
          },
          "ternary": {
           "aaxis": {
            "gridcolor": "white",
            "linecolor": "white",
            "ticks": ""
           },
           "baxis": {
            "gridcolor": "white",
            "linecolor": "white",
            "ticks": ""
           },
           "bgcolor": "#E5ECF6",
           "caxis": {
            "gridcolor": "white",
            "linecolor": "white",
            "ticks": ""
           }
          },
          "title": {
           "x": 0.05
          },
          "xaxis": {
           "automargin": true,
           "gridcolor": "white",
           "linecolor": "white",
           "ticks": "",
           "title": {
            "standoff": 15
           },
           "zerolinecolor": "white",
           "zerolinewidth": 2
          },
          "yaxis": {
           "automargin": true,
           "gridcolor": "white",
           "linecolor": "white",
           "ticks": "",
           "title": {
            "standoff": 15
           },
           "zerolinecolor": "white",
           "zerolinewidth": 2
          }
         }
        },
        "title": {
         "text": "Company Label Transitions from 1 to 4 Over Time"
        },
        "updatemenus": [
         {
          "buttons": [
           {
            "args": [
             {
              "visible": []
             },
             {
              "title": "All Companies"
             }
            ],
            "label": "All",
            "method": "update"
           }
          ],
          "direction": "down",
          "showactive": true,
          "x": 1.15,
          "xanchor": "right",
          "y": 1.15,
          "yanchor": "top"
         }
        ],
        "xaxis": {
         "title": {
          "text": "Calendar Year"
         }
        },
        "yaxis": {
         "title": {
          "text": "Predicted Labels"
         }
        }
       }
      },
      "text/html": [
       "<div>                            <div id=\"f706b02c-a0c9-400a-88a3-c25800069ae1\" class=\"plotly-graph-div\" style=\"height:525px; width:100%;\"></div>            <script type=\"text/javascript\">                require([\"plotly\"], function(Plotly) {                    window.PLOTLYENV=window.PLOTLYENV || {};                                    if (document.getElementById(\"f706b02c-a0c9-400a-88a3-c25800069ae1\")) {                    Plotly.newPlot(                        \"f706b02c-a0c9-400a-88a3-c25800069ae1\",                        [],                        {\"template\":{\"data\":{\"histogram2dcontour\":[{\"type\":\"histogram2dcontour\",\"colorbar\":{\"outlinewidth\":0,\"ticks\":\"\"},\"colorscale\":[[0.0,\"#0d0887\"],[0.1111111111111111,\"#46039f\"],[0.2222222222222222,\"#7201a8\"],[0.3333333333333333,\"#9c179e\"],[0.4444444444444444,\"#bd3786\"],[0.5555555555555556,\"#d8576b\"],[0.6666666666666666,\"#ed7953\"],[0.7777777777777778,\"#fb9f3a\"],[0.8888888888888888,\"#fdca26\"],[1.0,\"#f0f921\"]]}],\"choropleth\":[{\"type\":\"choropleth\",\"colorbar\":{\"outlinewidth\":0,\"ticks\":\"\"}}],\"histogram2d\":[{\"type\":\"histogram2d\",\"colorbar\":{\"outlinewidth\":0,\"ticks\":\"\"},\"colorscale\":[[0.0,\"#0d0887\"],[0.1111111111111111,\"#46039f\"],[0.2222222222222222,\"#7201a8\"],[0.3333333333333333,\"#9c179e\"],[0.4444444444444444,\"#bd3786\"],[0.5555555555555556,\"#d8576b\"],[0.6666666666666666,\"#ed7953\"],[0.7777777777777778,\"#fb9f3a\"],[0.8888888888888888,\"#fdca26\"],[1.0,\"#f0f921\"]]}],\"heatmap\":[{\"type\":\"heatmap\",\"colorbar\":{\"outlinewidth\":0,\"ticks\":\"\"},\"colorscale\":[[0.0,\"#0d0887\"],[0.1111111111111111,\"#46039f\"],[0.2222222222222222,\"#7201a8\"],[0.3333333333333333,\"#9c179e\"],[0.4444444444444444,\"#bd3786\"],[0.5555555555555556,\"#d8576b\"],[0.6666666666666666,\"#ed7953\"],[0.7777777777777778,\"#fb9f3a\"],[0.8888888888888888,\"#fdca26\"],[1.0,\"#f0f921\"]]}],\"heatmapgl\":[{\"type\":\"heatmapgl\",\"colorbar\":{\"outlinewidth\":0,\"ticks\":\"\"},\"colorscale\":[[0.0,\"#0d0887\"],[0.1111111111111111,\"#46039f\"],[0.2222222222222222,\"#7201a8\"],[0.3333333333333333,\"#9c179e\"],[0.4444444444444444,\"#bd3786\"],[0.5555555555555556,\"#d8576b\"],[0.6666666666666666,\"#ed7953\"],[0.7777777777777778,\"#fb9f3a\"],[0.8888888888888888,\"#fdca26\"],[1.0,\"#f0f921\"]]}],\"contourcarpet\":[{\"type\":\"contourcarpet\",\"colorbar\":{\"outlinewidth\":0,\"ticks\":\"\"}}],\"contour\":[{\"type\":\"contour\",\"colorbar\":{\"outlinewidth\":0,\"ticks\":\"\"},\"colorscale\":[[0.0,\"#0d0887\"],[0.1111111111111111,\"#46039f\"],[0.2222222222222222,\"#7201a8\"],[0.3333333333333333,\"#9c179e\"],[0.4444444444444444,\"#bd3786\"],[0.5555555555555556,\"#d8576b\"],[0.6666666666666666,\"#ed7953\"],[0.7777777777777778,\"#fb9f3a\"],[0.8888888888888888,\"#fdca26\"],[1.0,\"#f0f921\"]]}],\"surface\":[{\"type\":\"surface\",\"colorbar\":{\"outlinewidth\":0,\"ticks\":\"\"},\"colorscale\":[[0.0,\"#0d0887\"],[0.1111111111111111,\"#46039f\"],[0.2222222222222222,\"#7201a8\"],[0.3333333333333333,\"#9c179e\"],[0.4444444444444444,\"#bd3786\"],[0.5555555555555556,\"#d8576b\"],[0.6666666666666666,\"#ed7953\"],[0.7777777777777778,\"#fb9f3a\"],[0.8888888888888888,\"#fdca26\"],[1.0,\"#f0f921\"]]}],\"mesh3d\":[{\"type\":\"mesh3d\",\"colorbar\":{\"outlinewidth\":0,\"ticks\":\"\"}}],\"scatter\":[{\"fillpattern\":{\"fillmode\":\"overlay\",\"size\":10,\"solidity\":0.2},\"type\":\"scatter\"}],\"parcoords\":[{\"type\":\"parcoords\",\"line\":{\"colorbar\":{\"outlinewidth\":0,\"ticks\":\"\"}}}],\"scatterpolargl\":[{\"type\":\"scatterpolargl\",\"marker\":{\"colorbar\":{\"outlinewidth\":0,\"ticks\":\"\"}}}],\"bar\":[{\"error_x\":{\"color\":\"#2a3f5f\"},\"error_y\":{\"color\":\"#2a3f5f\"},\"marker\":{\"line\":{\"color\":\"#E5ECF6\",\"width\":0.5},\"pattern\":{\"fillmode\":\"overlay\",\"size\":10,\"solidity\":0.2}},\"type\":\"bar\"}],\"scattergeo\":[{\"type\":\"scattergeo\",\"marker\":{\"colorbar\":{\"outlinewidth\":0,\"ticks\":\"\"}}}],\"scatterpolar\":[{\"type\":\"scatterpolar\",\"marker\":{\"colorbar\":{\"outlinewidth\":0,\"ticks\":\"\"}}}],\"histogram\":[{\"marker\":{\"pattern\":{\"fillmode\":\"overlay\",\"size\":10,\"solidity\":0.2}},\"type\":\"histogram\"}],\"scattergl\":[{\"type\":\"scattergl\",\"marker\":{\"colorbar\":{\"outlinewidth\":0,\"ticks\":\"\"}}}],\"scatter3d\":[{\"type\":\"scatter3d\",\"line\":{\"colorbar\":{\"outlinewidth\":0,\"ticks\":\"\"}},\"marker\":{\"colorbar\":{\"outlinewidth\":0,\"ticks\":\"\"}}}],\"scattermapbox\":[{\"type\":\"scattermapbox\",\"marker\":{\"colorbar\":{\"outlinewidth\":0,\"ticks\":\"\"}}}],\"scatterternary\":[{\"type\":\"scatterternary\",\"marker\":{\"colorbar\":{\"outlinewidth\":0,\"ticks\":\"\"}}}],\"scattercarpet\":[{\"type\":\"scattercarpet\",\"marker\":{\"colorbar\":{\"outlinewidth\":0,\"ticks\":\"\"}}}],\"carpet\":[{\"aaxis\":{\"endlinecolor\":\"#2a3f5f\",\"gridcolor\":\"white\",\"linecolor\":\"white\",\"minorgridcolor\":\"white\",\"startlinecolor\":\"#2a3f5f\"},\"baxis\":{\"endlinecolor\":\"#2a3f5f\",\"gridcolor\":\"white\",\"linecolor\":\"white\",\"minorgridcolor\":\"white\",\"startlinecolor\":\"#2a3f5f\"},\"type\":\"carpet\"}],\"table\":[{\"cells\":{\"fill\":{\"color\":\"#EBF0F8\"},\"line\":{\"color\":\"white\"}},\"header\":{\"fill\":{\"color\":\"#C8D4E3\"},\"line\":{\"color\":\"white\"}},\"type\":\"table\"}],\"barpolar\":[{\"marker\":{\"line\":{\"color\":\"#E5ECF6\",\"width\":0.5},\"pattern\":{\"fillmode\":\"overlay\",\"size\":10,\"solidity\":0.2}},\"type\":\"barpolar\"}],\"pie\":[{\"automargin\":true,\"type\":\"pie\"}]},\"layout\":{\"autotypenumbers\":\"strict\",\"colorway\":[\"#636efa\",\"#EF553B\",\"#00cc96\",\"#ab63fa\",\"#FFA15A\",\"#19d3f3\",\"#FF6692\",\"#B6E880\",\"#FF97FF\",\"#FECB52\"],\"font\":{\"color\":\"#2a3f5f\"},\"hovermode\":\"closest\",\"hoverlabel\":{\"align\":\"left\"},\"paper_bgcolor\":\"white\",\"plot_bgcolor\":\"#E5ECF6\",\"polar\":{\"bgcolor\":\"#E5ECF6\",\"angularaxis\":{\"gridcolor\":\"white\",\"linecolor\":\"white\",\"ticks\":\"\"},\"radialaxis\":{\"gridcolor\":\"white\",\"linecolor\":\"white\",\"ticks\":\"\"}},\"ternary\":{\"bgcolor\":\"#E5ECF6\",\"aaxis\":{\"gridcolor\":\"white\",\"linecolor\":\"white\",\"ticks\":\"\"},\"baxis\":{\"gridcolor\":\"white\",\"linecolor\":\"white\",\"ticks\":\"\"},\"caxis\":{\"gridcolor\":\"white\",\"linecolor\":\"white\",\"ticks\":\"\"}},\"coloraxis\":{\"colorbar\":{\"outlinewidth\":0,\"ticks\":\"\"}},\"colorscale\":{\"sequential\":[[0.0,\"#0d0887\"],[0.1111111111111111,\"#46039f\"],[0.2222222222222222,\"#7201a8\"],[0.3333333333333333,\"#9c179e\"],[0.4444444444444444,\"#bd3786\"],[0.5555555555555556,\"#d8576b\"],[0.6666666666666666,\"#ed7953\"],[0.7777777777777778,\"#fb9f3a\"],[0.8888888888888888,\"#fdca26\"],[1.0,\"#f0f921\"]],\"sequentialminus\":[[0.0,\"#0d0887\"],[0.1111111111111111,\"#46039f\"],[0.2222222222222222,\"#7201a8\"],[0.3333333333333333,\"#9c179e\"],[0.4444444444444444,\"#bd3786\"],[0.5555555555555556,\"#d8576b\"],[0.6666666666666666,\"#ed7953\"],[0.7777777777777778,\"#fb9f3a\"],[0.8888888888888888,\"#fdca26\"],[1.0,\"#f0f921\"]],\"diverging\":[[0,\"#8e0152\"],[0.1,\"#c51b7d\"],[0.2,\"#de77ae\"],[0.3,\"#f1b6da\"],[0.4,\"#fde0ef\"],[0.5,\"#f7f7f7\"],[0.6,\"#e6f5d0\"],[0.7,\"#b8e186\"],[0.8,\"#7fbc41\"],[0.9,\"#4d9221\"],[1,\"#276419\"]]},\"xaxis\":{\"gridcolor\":\"white\",\"linecolor\":\"white\",\"ticks\":\"\",\"title\":{\"standoff\":15},\"zerolinecolor\":\"white\",\"automargin\":true,\"zerolinewidth\":2},\"yaxis\":{\"gridcolor\":\"white\",\"linecolor\":\"white\",\"ticks\":\"\",\"title\":{\"standoff\":15},\"zerolinecolor\":\"white\",\"automargin\":true,\"zerolinewidth\":2},\"scene\":{\"xaxis\":{\"backgroundcolor\":\"#E5ECF6\",\"gridcolor\":\"white\",\"linecolor\":\"white\",\"showbackground\":true,\"ticks\":\"\",\"zerolinecolor\":\"white\",\"gridwidth\":2},\"yaxis\":{\"backgroundcolor\":\"#E5ECF6\",\"gridcolor\":\"white\",\"linecolor\":\"white\",\"showbackground\":true,\"ticks\":\"\",\"zerolinecolor\":\"white\",\"gridwidth\":2},\"zaxis\":{\"backgroundcolor\":\"#E5ECF6\",\"gridcolor\":\"white\",\"linecolor\":\"white\",\"showbackground\":true,\"ticks\":\"\",\"zerolinecolor\":\"white\",\"gridwidth\":2}},\"shapedefaults\":{\"line\":{\"color\":\"#2a3f5f\"}},\"annotationdefaults\":{\"arrowcolor\":\"#2a3f5f\",\"arrowhead\":0,\"arrowwidth\":1},\"geo\":{\"bgcolor\":\"white\",\"landcolor\":\"#E5ECF6\",\"subunitcolor\":\"white\",\"showland\":true,\"showlakes\":true,\"lakecolor\":\"white\"},\"title\":{\"x\":0.05},\"mapbox\":{\"style\":\"light\"}}},\"title\":{\"text\":\"Company Label Transitions from 1 to 4 Over Time\"},\"xaxis\":{\"title\":{\"text\":\"Calendar Year\"}},\"yaxis\":{\"title\":{\"text\":\"Predicted Labels\"}},\"updatemenus\":[{\"buttons\":[{\"args\":[{\"visible\":[]},{\"title\":\"All Companies\"}],\"label\":\"All\",\"method\":\"update\"}],\"direction\":\"down\",\"showactive\":true,\"x\":1.15,\"xanchor\":\"right\",\"y\":1.15,\"yanchor\":\"top\"}]},                        {\"responsive\": true}                    ).then(function(){\n",
       "                            \n",
       "var gd = document.getElementById('f706b02c-a0c9-400a-88a3-c25800069ae1');\n",
       "var x = new MutationObserver(function (mutations, observer) {{\n",
       "        var display = window.getComputedStyle(gd).display;\n",
       "        if (!display || display === 'none') {{\n",
       "            console.log([gd, 'removed!']);\n",
       "            Plotly.purge(gd);\n",
       "            observer.disconnect();\n",
       "        }}\n",
       "}});\n",
       "\n",
       "// Listen for the removal of the full notebook cells\n",
       "var notebookContainer = gd.closest('#notebook-container');\n",
       "if (notebookContainer) {{\n",
       "    x.observe(notebookContainer, {childList: true});\n",
       "}}\n",
       "\n",
       "// Listen for the clearing of the current output cell\n",
       "var outputEl = gd.closest('.output');\n",
       "if (outputEl) {{\n",
       "    x.observe(outputEl, {childList: true});\n",
       "}}\n",
       "\n",
       "                        })                };                });            </script>        </div>"
      ]
     },
     "metadata": {},
     "output_type": "display_data"
    }
   ],
   "source": [
    "transition_companies = final_df.groupby('symbol').filter(\n",
    "    lambda x: (1 in x['Predicted Labels'].values) and (4 in x['Predicted Labels'].values)\n",
    ")\n",
    "\n",
    "# Get unique symbols that meet the transition criteria\n",
    "transition_symbols = transition_companies['symbol'].unique()\n",
    "\n",
    "# Create a figure\n",
    "fig = go.Figure()\n",
    "\n",
    "# Add traces for each company\n",
    "for symbol in transition_symbols:\n",
    "    company_data = transition_companies[transition_companies['symbol'] == symbol]\n",
    "    fig.add_trace(go.Scatter(\n",
    "        x=company_data['Calendar Year'],\n",
    "        y=company_data['Predicted Labels'],\n",
    "        mode='lines+markers',\n",
    "        name=symbol,\n",
    "        visible=True\n",
    "    ))\n",
    "\n",
    "# Create buttons for each company to update visibility\n",
    "buttons = []\n",
    "buttons.append(dict(\n",
    "    label='All',\n",
    "    method='update',\n",
    "    args=[{'visible': [True] * len(transition_symbols)}, {'title': 'All Companies'}]\n",
    "))\n",
    "\n",
    "for symbol in transition_symbols:\n",
    "    buttons.append(dict(\n",
    "        label=symbol,\n",
    "        method='update',\n",
    "        args=[{'visible': [symbol == s for s in transition_symbols]},\n",
    "              {'title': f'Company: {symbol}'}]\n",
    "    ))\n",
    "\n",
    "# Update layout to include buttons\n",
    "fig.update_layout(\n",
    "    title='Company Label Transitions from 1 to 4 Over Time',\n",
    "    xaxis_title='Calendar Year',\n",
    "    yaxis_title='Predicted Labels',\n",
    "    updatemenus=[{\n",
    "        'buttons': buttons,\n",
    "        'direction': 'down',\n",
    "        'showactive': True,\n",
    "        'x': 1.15,\n",
    "        'xanchor': 'right',\n",
    "        'y': 1.15,\n",
    "        'yanchor': 'top'\n",
    "    }]\n",
    ")\n",
    "\n",
    "# Show the plot\n",
    "fig.show()"
   ]
  },
  {
   "cell_type": "code",
   "execution_count": 104,
   "id": "15fa3f11",
   "metadata": {},
   "outputs": [
    {
     "data": {
      "image/png": "[encoded data removed]",
      "text/plain": [
       "<Figure size 800x800 with 2 Axes>"
      ]
     },
     "metadata": {},
     "output_type": "display_data"
    }
   ],
   "source": [
    "n_labels = len(np.unique(y_test))\n",
    "transition_matrix = np.zeros((n_labels, n_labels))\n",
    "\n",
    "for (actual, predicted) in zip(y_test, y_pred):\n",
    "    transition_matrix[actual, predicted] += 1\n",
    "\n",
    "# Normalize the transition matrix to get probabilities\n",
    "transition_matrix = transition_matrix / transition_matrix.sum(axis=1, keepdims=True)\n",
    "\n",
    "# Plot the transition matrix\n",
    "plt.figure(figsize=(8, 8))\n",
    "plt.imshow(transition_matrix, cmap='Blues', interpolation='nearest')\n",
    "plt.title('Transition Matrix')\n",
    "plt.xlabel('Predicted Label')\n",
    "plt.ylabel('Actual Label')\n",
    "plt.colorbar()\n",
    "\n",
    "# Add labels to the plot\n",
    "for i in range(n_labels):\n",
    "    for j in range(n_labels):\n",
    "        plt.text(j, i, f'{transition_matrix[i, j]:.2f}', ha='center', va='center', color='red')\n",
    "\n",
    "plt.xticks(ticks=np.arange(n_labels), labels=np.arange(n_labels))\n",
    "plt.yticks(ticks=np.arange(n_labels), labels=np.arange(n_labels))\n",
    "plt.show()"
   ]
  },
  {
   "cell_type": "code",
   "execution_count": 105,
   "id": "f309d15f",
   "metadata": {},
   "outputs": [
    {
     "data": {
      "text/html": [
       "<div>\n",
       "<style scoped>\n",
       "    .dataframe tbody tr th:only-of-type {\n",
       "        vertical-align: middle;\n",
       "    }\n",
       "\n",
       "    .dataframe tbody tr th {\n",
       "        vertical-align: top;\n",
       "    }\n",
       "\n",
       "    .dataframe thead th {\n",
       "        text-align: right;\n",
       "    }\n",
       "</style>\n",
       "<table border=\"1\" class=\"dataframe\">\n",
       "  <thead>\n",
       "    <tr style=\"text-align: right;\">\n",
       "      <th></th>\n",
       "      <th>symbol</th>\n",
       "      <th>calendarYear</th>\n",
       "      <th>grossProfit_to_Revenue_ratio</th>\n",
       "      <th>ebitda_to_Revenue_ratio</th>\n",
       "      <th>commonStockIssued_to_Revenue_ratio</th>\n",
       "      <th>debtRepayment_to_Revenue_ratio</th>\n",
       "      <th>employee_revenue_ratio</th>\n",
       "      <th>acquisitionsNet_to_Revenue_ratio</th>\n",
       "      <th>Predicted Labels</th>\n",
       "    </tr>\n",
       "  </thead>\n",
       "  <tbody>\n",
       "    <tr>\n",
       "      <th>0</th>\n",
       "      <td>A</td>\n",
       "      <td>2007</td>\n",
       "      <td>0.520720</td>\n",
       "      <td>-0.273751</td>\n",
       "      <td>-0.282443</td>\n",
       "      <td>0.379725</td>\n",
       "      <td>0.230746</td>\n",
       "      <td>0.095021</td>\n",
       "      <td>1</td>\n",
       "    </tr>\n",
       "    <tr>\n",
       "      <th>1</th>\n",
       "      <td>A</td>\n",
       "      <td>2008</td>\n",
       "      <td>0.544650</td>\n",
       "      <td>-0.167934</td>\n",
       "      <td>-0.282443</td>\n",
       "      <td>0.379725</td>\n",
       "      <td>0.172808</td>\n",
       "      <td>0.095021</td>\n",
       "      <td>1</td>\n",
       "    </tr>\n",
       "    <tr>\n",
       "      <th>2</th>\n",
       "      <td>A</td>\n",
       "      <td>2009</td>\n",
       "      <td>0.369147</td>\n",
       "      <td>-0.646751</td>\n",
       "      <td>-0.282443</td>\n",
       "      <td>0.379725</td>\n",
       "      <td>0.283988</td>\n",
       "      <td>0.095021</td>\n",
       "      <td>1</td>\n",
       "    </tr>\n",
       "    <tr>\n",
       "      <th>3</th>\n",
       "      <td>A</td>\n",
       "      <td>2010</td>\n",
       "      <td>0.480716</td>\n",
       "      <td>-0.262513</td>\n",
       "      <td>-0.282443</td>\n",
       "      <td>0.379725</td>\n",
       "      <td>0.173971</td>\n",
       "      <td>0.095021</td>\n",
       "      <td>1</td>\n",
       "    </tr>\n",
       "    <tr>\n",
       "      <th>4</th>\n",
       "      <td>A</td>\n",
       "      <td>2011</td>\n",
       "      <td>0.460992</td>\n",
       "      <td>-0.021314</td>\n",
       "      <td>-0.282443</td>\n",
       "      <td>0.379725</td>\n",
       "      <td>-0.005143</td>\n",
       "      <td>0.095021</td>\n",
       "      <td>1</td>\n",
       "    </tr>\n",
       "    <tr>\n",
       "      <th>...</th>\n",
       "      <td>...</td>\n",
       "      <td>...</td>\n",
       "      <td>...</td>\n",
       "      <td>...</td>\n",
       "      <td>...</td>\n",
       "      <td>...</td>\n",
       "      <td>...</td>\n",
       "      <td>...</td>\n",
       "      <td>...</td>\n",
       "    </tr>\n",
       "    <tr>\n",
       "      <th>17612</th>\n",
       "      <td>ZTS</td>\n",
       "      <td>2019</td>\n",
       "      <td>1.080366</td>\n",
       "      <td>0.624284</td>\n",
       "      <td>-0.289034</td>\n",
       "      <td>0.381480</td>\n",
       "      <td>-0.360536</td>\n",
       "      <td>0.058725</td>\n",
       "      <td>0</td>\n",
       "    </tr>\n",
       "    <tr>\n",
       "      <th>17613</th>\n",
       "      <td>ZTS</td>\n",
       "      <td>2020</td>\n",
       "      <td>1.122322</td>\n",
       "      <td>0.844884</td>\n",
       "      <td>-0.023687</td>\n",
       "      <td>0.304297</td>\n",
       "      <td>-0.360664</td>\n",
       "      <td>0.072005</td>\n",
       "      <td>0</td>\n",
       "    </tr>\n",
       "    <tr>\n",
       "      <th>17614</th>\n",
       "      <td>ZTS</td>\n",
       "      <td>2021</td>\n",
       "      <td>1.172426</td>\n",
       "      <td>0.702990</td>\n",
       "      <td>-0.256632</td>\n",
       "      <td>0.299546</td>\n",
       "      <td>-0.403555</td>\n",
       "      <td>0.092619</td>\n",
       "      <td>0</td>\n",
       "    </tr>\n",
       "    <tr>\n",
       "      <th>17615</th>\n",
       "      <td>ZTS</td>\n",
       "      <td>2022</td>\n",
       "      <td>1.140914</td>\n",
       "      <td>0.707142</td>\n",
       "      <td>-0.308539</td>\n",
       "      <td>0.228681</td>\n",
       "      <td>-0.355949</td>\n",
       "      <td>0.048343</td>\n",
       "      <td>0</td>\n",
       "    </tr>\n",
       "    <tr>\n",
       "      <th>17616</th>\n",
       "      <td>ZTS</td>\n",
       "      <td>2023</td>\n",
       "      <td>1.084664</td>\n",
       "      <td>0.877708</td>\n",
       "      <td>-0.360446</td>\n",
       "      <td>0.256761</td>\n",
       "      <td>-0.374020</td>\n",
       "      <td>0.088434</td>\n",
       "      <td>0</td>\n",
       "    </tr>\n",
       "  </tbody>\n",
       "</table>\n",
       "<p>17617 rows × 9 columns</p>\n",
       "</div>"
      ],
      "text/plain": [
       "      symbol  calendarYear  grossProfit_to_Revenue_ratio  \\\n",
       "0          A          2007                      0.520720   \n",
       "1          A          2008                      0.544650   \n",
       "2          A          2009                      0.369147   \n",
       "3          A          2010                      0.480716   \n",
       "4          A          2011                      0.460992   \n",
       "...      ...           ...                           ...   \n",
       "17612    ZTS          2019                      1.080366   \n",
       "17613    ZTS          2020                      1.122322   \n",
       "17614    ZTS          2021                      1.172426   \n",
       "17615    ZTS          2022                      1.140914   \n",
       "17616    ZTS          2023                      1.084664   \n",
       "\n",
       "       ebitda_to_Revenue_ratio  commonStockIssued_to_Revenue_ratio  \\\n",
       "0                    -0.273751                           -0.282443   \n",
       "1                    -0.167934                           -0.282443   \n",
       "2                    -0.646751                           -0.282443   \n",
       "3                    -0.262513                           -0.282443   \n",
       "4                    -0.021314                           -0.282443   \n",
       "...                        ...                                 ...   \n",
       "17612                 0.624284                           -0.289034   \n",
       "17613                 0.844884                           -0.023687   \n",
       "17614                 0.702990                           -0.256632   \n",
       "17615                 0.707142                           -0.308539   \n",
       "17616                 0.877708                           -0.360446   \n",
       "\n",
       "       debtRepayment_to_Revenue_ratio  employee_revenue_ratio  \\\n",
       "0                            0.379725                0.230746   \n",
       "1                            0.379725                0.172808   \n",
       "2                            0.379725                0.283988   \n",
       "3                            0.379725                0.173971   \n",
       "4                            0.379725               -0.005143   \n",
       "...                               ...                     ...   \n",
       "17612                        0.381480               -0.360536   \n",
       "17613                        0.304297               -0.360664   \n",
       "17614                        0.299546               -0.403555   \n",
       "17615                        0.228681               -0.355949   \n",
       "17616                        0.256761               -0.374020   \n",
       "\n",
       "       acquisitionsNet_to_Revenue_ratio  Predicted Labels  \n",
       "0                              0.095021                 1  \n",
       "1                              0.095021                 1  \n",
       "2                              0.095021                 1  \n",
       "3                              0.095021                 1  \n",
       "4                              0.095021                 1  \n",
       "...                                 ...               ...  \n",
       "17612                          0.058725                 0  \n",
       "17613                          0.072005                 0  \n",
       "17614                          0.092619                 0  \n",
       "17615                          0.048343                 0  \n",
       "17616                          0.088434                 0  \n",
       "\n",
       "[17617 rows x 9 columns]"
      ]
     },
     "execution_count": 105,
     "metadata": {},
     "output_type": "execute_result"
    }
   ],
   "source": [
    "final_df"
   ]
  },
  {
   "cell_type": "code",
   "execution_count": null,
   "id": "19dce7ee",
   "metadata": {},
   "outputs": [],
   "source": []
  }
 ],
 "metadata": {
  "kernelspec": {
   "display_name": "Python 3 (ipykernel)",
   "language": "python",
   "name": "python3"
  },
  "language_info": {
   "codemirror_mode": {
    "name": "ipython",
    "version": 3
   },
   "file_extension": ".py",
   "mimetype": "text/x-python",
   "name": "python",
   "nbconvert_exporter": "python",
   "pygments_lexer": "ipython3",
   "version": "3.11.5"
  }
 },
 "nbformat": 4,
 "nbformat_minor": 5
}
